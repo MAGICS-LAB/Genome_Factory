{
 "cells": [
  {
   "cell_type": "markdown",
   "id": "4fb7d3f6-b9bb-47e1-8611-0962a891f8ab",
   "metadata": {
    "tags": []
   },
   "source": [
    "# Test GenomeOcean-meta-4B"
   ]
  },
  {
   "cell_type": "markdown",
   "id": "b9de5056-89cc-4627-a7a1-32fe0f62bf73",
   "metadata": {},
   "source": [
    "This notebook demonstrate the following functions:\n",
    "\n",
    "  1. Scoring genomic sequence datasets. We ask the model whether it thinks a dataset is similar to its training data.\n",
    "  2. Generating artifical sequences. We generate artificial sequences and evaluate their quality using various quality\n",
    "  3. Test the model for its ability to recognize mutations to natural sequences\n",
    "  \n",
    "\n",
    "  Requirements:\n",
    "  \n",
    "  - A model directory\n",
    "  - This notebook runs on NERSC's pytorch-2.01 kernel, you may need to install some packages such as transformers.To install a package, run the following in a cell:\n",
    "```\n",
    "! pip install package_name\n",
    "```"
   ]
  },
  {
   "cell_type": "markdown",
   "id": "d13732b9-6018-4776-bb61-e9441d706373",
   "metadata": {
    "jp-MarkdownHeadingCollapsed": true,
    "tags": []
   },
   "source": [
    "## 0. Load libraries"
   ]
  },
  {
   "cell_type": "code",
   "execution_count": 1,
   "id": "423d41b1-687f-41bb-936c-a38912d4d25c",
   "metadata": {
    "tags": []
   },
   "outputs": [],
   "source": [
    "import os\n",
    "import numpy as np\n",
    "import transformers\n",
    "import torch\n",
    "import torch.utils.data as util_data\n",
    "import torch.nn as nn\n",
    "import tqdm\n",
    "import argparse\n",
    "\n",
    "from torch.utils.data import Dataset\n",
    "import pandas as pd"
   ]
  },
  {
   "cell_type": "code",
   "execution_count": 2,
   "id": "4ed185b5-5719-4e71-9595-0854c79e976e",
   "metadata": {
    "tags": []
   },
   "outputs": [],
   "source": [
    "# set it to prevent the warning message when use the model\n",
    "os.environ['TOKENIZERS_PARALLELISM'] = 'true'"
   ]
  },
  {
   "cell_type": "code",
   "execution_count": 3,
   "id": "7fd684fc-2bbb-42e1-8918-7a21bfcf52aa",
   "metadata": {
    "tags": []
   },
   "outputs": [],
   "source": [
    "def compute_perplexity(dna_sequences, model_dir, use_ppl=False):\n",
    "    print(f\"Getting perplexity for {len(dna_sequences)} sequences\")\n",
    "    print(f\"Model directory: {model_dir}\")\n",
    "    \n",
    "    tokenizer = transformers.AutoTokenizer.from_pretrained(model_dir)\n",
    "    model = transformers.AutoModelForCausalLM.from_pretrained(\n",
    "        model_dir,\n",
    "        trust_remote_code=True,\n",
    "        torch_dtype=torch.bfloat16, \n",
    "        attn_implementation=\"flash_attention_2\",\n",
    "    )\n",
    "    \n",
    "    model.to(\"cuda\")\n",
    "    \n",
    "\n",
    "    encodings = tokenizer(dna_sequences, \n",
    "                        padding=False,)\n",
    "\n",
    "    max_length = 1024 # current max length of the model\n",
    "    stride = 512\n",
    "    device = \"cuda\"\n",
    "    \n",
    "    perplexities = np.zeros(len(dna_sequences))\n",
    "\n",
    "    for i, sample in tqdm.tqdm(enumerate(encodings[\"input_ids\"])):\n",
    "        nlls = []\n",
    "        prev_end_loc = 0\n",
    "        sample = torch.tensor(sample).unsqueeze(0)\n",
    "        seq_len = sample.size(1)\n",
    "        for begin_loc in range(0, seq_len, stride):\n",
    "            end_loc = min(begin_loc + max_length, seq_len)\n",
    "            trg_len = end_loc - prev_end_loc  # may be different from stride on last loop\n",
    "            input_ids = sample[:, begin_loc:end_loc].to(device)\n",
    "            target_ids = input_ids.clone()\n",
    "            target_ids[:, :-trg_len] = -100\n",
    "\n",
    "            with torch.no_grad():\n",
    "                outputs = model(input_ids, labels=target_ids)\n",
    "\n",
    "                # loss is calculated using CrossEntropyLoss which averages over valid labels\n",
    "                # N.B. the model only calculates loss over trg_len - 1 labels, because it internally shifts the labels\n",
    "                # to the left by 1.\n",
    "                neg_log_likelihood = outputs.loss\n",
    "\n",
    "            nlls.append(neg_log_likelihood)\n",
    "\n",
    "            prev_end_loc = end_loc\n",
    "            if end_loc == seq_len:\n",
    "                break\n",
    "        \n",
    "        losses = torch.stack(nlls).mean()\n",
    "        score = torch.exp(losses).item() if use_ppl else losses.item()\n",
    "        perplexities[i] = score\n",
    "    \n",
    "    return perplexities\n",
    "\n",
    "def generate_sequences(\n",
    "    model_dir,\n",
    "    dna_sequences=None,\n",
    "    num_generation_in_total=10,\n",
    "    num_generation_from_each_prompt=4,\n",
    "    temperature=0.7,\n",
    "    min_length=128,\n",
    "    max_length=1024, \n",
    "    top_k=50,          \n",
    "    penalty_alpha=0.6,\n",
    "):\n",
    "    \n",
    "\n",
    "    tokenizer = transformers.AutoTokenizer.from_pretrained(model_dir)\n",
    "    model = transformers.AutoModelForCausalLM.from_pretrained(\n",
    "        model_dir,\n",
    "        trust_remote_code=True,\n",
    "        torch_dtype=torch.bfloat16, \n",
    "        attn_implementation=\"flash_attention_2\",\n",
    "    )\n",
    "    \n",
    "    model.to(\"cuda\")\n",
    "    \n",
    "    if dna_sequences is None:\n",
    "        dna_sequences = [\"\" for _ in range(num_generation_in_total)]\n",
    "        num_generation_from_each_prompt = 1\n",
    "        print(f\"No prompt provided. Will generate {num_generation_in_total} sequences\")\n",
    "    else:\n",
    "        print(f\"Will generate {num_generation_from_each_prompt * len(dna_sequences)} sequences from {len(dna_sequences)} prompts\")\n",
    "        \n",
    "    class MyDataset(Dataset):\n",
    "        def __init__(self, dna_sequences):\n",
    "            self.dna_sequences = dna_sequences\n",
    "            \n",
    "        def __len__(self):\n",
    "            return len(self.dna_sequences)\n",
    "\n",
    "        def __getitem__(self, i):\n",
    "            return self.dna_sequences[i]\n",
    "\n",
    "    outputs = []\n",
    "    dataset = MyDataset(dna_sequences=dna_sequences)\n",
    "    train_loader = torch.utils.data.DataLoader(dataset, batch_size=1, shuffle=False, num_workers=1)\n",
    "    for i, sequence in enumerate(tqdm.tqdm(train_loader)):\n",
    "        with torch.no_grad():\n",
    "            input_ids = tokenizer(sequence, return_tensors='pt')[\"input_ids\"][:, :-1].to(\"cuda\")       \n",
    "            model_output = model.generate(\n",
    "                input_ids=input_ids,\n",
    "                min_length=min_length,\n",
    "                max_length=max_length,\n",
    "                do_sample=True,\n",
    "                top_k=top_k,\n",
    "                temperature=temperature,\n",
    "                num_return_sequences=num_generation_from_each_prompt,\n",
    "                bad_words_ids=[[8]], # N-containing BPE token\n",
    "                penalty_alpha=penalty_alpha,\n",
    "            ).cpu().numpy().tolist()\n",
    "            for text in model_output:\n",
    "                text = tokenizer.decode(text, skip_special_tokens=True).replace(\" \", \"\").replace(\"\\n\", \"\")\n",
    "                outputs.append(text)\n",
    "    \n",
    "    return outputs"
   ]
  },
  {
   "cell_type": "code",
   "execution_count": 4,
   "id": "25ace8ba-b872-4fab-b502-2d72f13cdebd",
   "metadata": {
    "tags": []
   },
   "outputs": [],
   "source": [
    "from Bio import Entrez, SeqIO\n",
    "Entrez.email = \"zhongwang@lbl.gov\"\n",
    "\n",
    "def search_gene(gene_name='replicase', organism='Tobacco mosaic virus', database='nucleotide', max_records=10):\n",
    "    \"\"\"\n",
    "    Search for gene records in NCBI database and retrieve GenBank files.\n",
    "\n",
    "    Args:\n",
    "        gene_name (str): Name of the gene to search for.\n",
    "        database (str): NCBI database to search in. Default is \"nucleotide\".\n",
    "        max_records (int): Maximum number of records to fetch. Default is 10.\n",
    "\n",
    "    Returns:\n",
    "        list: Filenames of the downloaded GenBank files.\n",
    "    \"\"\"\n",
    "    search_term = f'\"{gene_name}\" AND \"{organism}\"[Organism] AND \"complete cds\"'\n",
    "    \n",
    "    # Search in the specified database\n",
    "    search_handle = Entrez.esearch(db=database, term=search_term, retmax=max_records)\n",
    "    search_results = Entrez.read(search_handle)\n",
    "    search_handle.close()\n",
    "    \n",
    "    # Fetch details for each ID\n",
    "    ids = search_results['IdList']\n",
    "    sequences = []\n",
    "    \n",
    "    if ids:\n",
    "        fetch_handle = Entrez.efetch(db=database, id=\",\".join(ids), rettype=\"gb\", retmode=\"text\")\n",
    "        records = list(SeqIO.parse(fetch_handle, \"genbank\"))\n",
    "        fetch_handle.close()\n",
    "\n",
    "        for i, record in enumerate(records):\n",
    "            if record.seq:\n",
    "                sequences.append(str(record.seq))\n",
    "            else:\n",
    "                print(f\"Record {i} does not contain sequence data.\")\n",
    "    else:\n",
    "        print(\"No records found for the specified gene.\")\n",
    "\n",
    "    return sequences"
   ]
  },
  {
   "cell_type": "code",
   "execution_count": 5,
   "id": "db682920-4cd1-479d-ac89-5599474f05cf",
   "metadata": {
    "tags": []
   },
   "outputs": [],
   "source": [
    "# Change this to the directory of the model\n",
    "model_dir = \"/global/homes/z/zhwang/RD_cfs/projects/LLMs/genomeocean/MOE_DNA/mistral_4B_1024_add1/checkpoint-55000\""
   ]
  },
  {
   "cell_type": "markdown",
   "id": "1b88bef8-1970-4078-90ca-5a08d5a11456",
   "metadata": {
    "jp-MarkdownHeadingCollapsed": true,
    "tags": []
   },
   "source": [
    "## 1. Perplexity Score Distributions"
   ]
  },
  {
   "cell_type": "code",
   "execution_count": 9,
   "id": "0632ff1b-5c8b-4226-8dfc-5c63761cd6af",
   "metadata": {
    "tags": []
   },
   "outputs": [],
   "source": [
    "import gzip\n",
    "def plot_dataset_perplexity(data, num_seqs=1000, min_seq_len=1500, max_seq_len=3000):\n",
    "    \"\"\"sample a dataset and plot its perplexity distribution\"\"\"\n",
    "    seqs = {}\n",
    "    counter = 0\n",
    "    if data[:-3] == gzip:\n",
    "        with gzip.open(data, 'rt') as FA:\n",
    "            for s in SeqIO.parse(FA, 'fasta'):\n",
    "                if counter >= num_seqs:\n",
    "                    break\n",
    "                if len(s.seq) < min_seq_len:\n",
    "                    continue\n",
    "                seqs[s.id] = str(s.seq)[0:max_seq_len].upper()\n",
    "                counter +=1\n",
    "    else:\n",
    "        with open(data, 'rt') as FA:\n",
    "            for s in SeqIO.parse(FA, 'fasta'):\n",
    "                if counter >= num_seqs:\n",
    "                    break\n",
    "                if len(s.seq) < min_seq_len:\n",
    "                    continue                    \n",
    "                seqs[s.id] = str(s.seq)[0:max_seq_len].upper()\n",
    "                counter +=1        \n",
    "    seqs = pd.DataFrame.from_dict(seqs, orient='index', columns=['seq'])\n",
    "    seqs['score'] = compute_perplexity(list(seqs['seq']), model_dir=model_dir, use_ppl=False)\n",
    "    return seqs\n"
   ]
  },
  {
   "cell_type": "markdown",
   "id": "4a047ca7-48ae-4c87-833b-1e960a6bf0b0",
   "metadata": {
    "tags": []
   },
   "source": [
    "### in training"
   ]
  },
  {
   "cell_type": "code",
   "execution_count": 7,
   "id": "0a2e2e77-75ec-4d45-84cc-1198cf866a76",
   "metadata": {
    "tags": []
   },
   "outputs": [
    {
     "name": "stderr",
     "output_type": "stream",
     "text": [
      "You are attempting to use Flash Attention 2.0 with a model not initialized on GPU. Make sure to move the model to GPU after initializing it on CPU with `model.to('cuda')`.\n"
     ]
    }
   ],
   "source": [
    "%%capture\n",
    "data = '/global/homes/z/zhwang/RD_cfs/zhwang/metagenomic_datasets/harvardforest.fa'\n",
    "scores = plot_dataset_likelihood(data, num_seqs=2000, max_seq_len=5000)"
   ]
  },
  {
   "cell_type": "code",
   "execution_count": 8,
   "id": "24a52fdc-12d0-418b-8e42-84ead392c5ca",
   "metadata": {
    "tags": []
   },
   "outputs": [
    {
     "data": {
      "text/plain": [
       "<Axes: >"
      ]
     },
     "execution_count": 8,
     "metadata": {},
     "output_type": "execute_result"
    },
    {
     "data": {
      "image/png": "[encoded data removed]",
      "text/plain": [
       "<Figure size 640x480 with 1 Axes>"
      ]
     },
     "metadata": {},
     "output_type": "display_data"
    }
   ],
   "source": [
    "# negative log10 likelihood\n",
    "scores['score'].hist(bins=100)"
   ]
  },
  {
   "cell_type": "code",
   "execution_count": 18,
   "id": "d3a6030d-d244-4e9c-b06d-a02c831aa6a7",
   "metadata": {
    "tags": []
   },
   "outputs": [
    {
     "data": {
      "text/plain": [
       "[60.24,\n",
       " 68.92,\n",
       " 67.76,\n",
       " 62.96,\n",
       " 64.64,\n",
       " 67.06,\n",
       " 62.54,\n",
       " 56.98,\n",
       " 71.88,\n",
       " 63.14,\n",
       " 63.26,\n",
       " 62.8,\n",
       " 65.66,\n",
       " 69.28,\n",
       " 58.2,\n",
       " 65.76,\n",
       " 55.78,\n",
       " 63.14,\n",
       " 67.52,\n",
       " 62.96,\n",
       " 64.52,\n",
       " 63.18]"
      ]
     },
     "execution_count": 18,
     "metadata": {},
     "output_type": "execute_result"
    }
   ],
   "source": [
    "# most likely sequences\n",
    "most_likely_seqs = list(scores.loc[scores['score']<1000, 'seq'])\n",
    "from Bio.SeqUtils import GC\n",
    "[GC(s) for s in most_likely_seqs]"
   ]
  },
  {
   "cell_type": "code",
   "execution_count": 20,
   "id": "003bc621-8fc0-4d40-91a9-4ceec7330e28",
   "metadata": {
    "tags": []
   },
   "outputs": [
    {
     "data": {
      "text/plain": [
       "'TGGCGAAAGAGAAATTTGACCGCACCAAGCCGCACTGCAATGTAGGGACGATTGGTCACATTGACCATGGGAAGACGACGTTGACGGCGGCGATCACGAAGGTATTGTCGAAGCACAATCCGAAGATCGTGTTCCGGTCGTTCGATTCGATCGACAACGCGCCGGAAGAGAAGGCGCGCGGGATCACGATTGCCACGGCGCACGTGGAGTATGAGACGGCGAACCGGCACTACGCGCACGTGGATTGCCCGGGCCACGCCGACTACATCAAGAACATGATCACGGGCGCGGCGCAGATGGATGGCGGGATTCTGGTAGTTGCTGCGACGGACGGTCCGATGCCGCAGACGCGCGAGCACGTGCTGCTGGCGCGGCAGGTGGGCGTGCCGTATCTGGTGGTTGCGCTGAACAAGTGCGATGCAGTGGATGATCCCGAGCTGCTCGAACTGGTGGAACTGGAAGTGCGCGAATTGCTGAAGAGCTACAAGTTTCCGGGCGACGACGTGCCGGTGGTAAAGGTGTCGGCGCTGGGAGCGTTGAACGGAGAAGAGAAGTGGGAGAAGCAGATTGACGCGCTGATGGAGGCGGTGGACAAGAGCGTGCCGCAGCCGGCGCGCGAGCTCGACAAGCCGTTCCTGATGCCGATTGAAGATATCTTCTCGATTCAAGGGCGCGGCACGGTGGTGACGGGCCGTATTGAGCGCGGCAAGGTGAAGGTGGGCGAGGAAGTAGAGATCGTGGGCTTCCGCGACACGCGCAAGACGGTGGTCACGGGCGTGGAAATGTTCAAGAAGCAATTGGACGAAGGCATGGCGGGCGACAATGCGGGCCTGCTGCTGCGCGGCATTGCGAAAGAGGATGTGGAGCGCGGCATGGTGCTGGCCAAGACGGGATCGATCACGCCGCACACCAAGTTCAAGGCGGAGGTCTACATTCTGACGAAAGAAGAAGGTGGGCGACATACGCCGTTCTTCAAAGGGTATCGTCCACAGTTTTATCTGCGGACGACGGATGTGACGGGAGTGGCGGAACTTCCCGCAGGCACGGAGATGGTGATGCCGGGAGACAACGTGAGCCTGGTGATTGAGTTGATCACGCCGGTGGCGATGGAGAAGGGCTTGCGGTTTGCGATTCGTGAAGGCGGACACACGGTAGGCGCCGGAACGATTTCGGAGATTGTGCAGTAGGGAGTGAATTTGTGGAGCGGGCGCCCTCGCCCGCTTTGCAGGCAGCATCGATAAAGACCGCGGGCGAGGGTGCCCGCGCTACAAAGCAATAGGGAGTGAGCAATGCCCCGAGAGATCGTTACATTACAGTGCGGTGATTGCAAAGAGCGGAATTATTCGACGACCAAGAACCGGAAGACGACCACGGAGCGGTTGGAGTTCAAAAAGTTCTGCAACCGTTGCCGCAAGCATACGCCGCATAAAGAAGTGAAGTAGCTGGTACCCAGTACCCAGATCAATATTGACCGGGGACTAGGCGCTGGCAACTGGGTACCGTTTTACAGGGGCGTAAGCTCAACGGTTAAACTGTCGGTCTCCAAAACCGAACTTGGGGGTTCGAATCCCTCCGCCCCTGCCAGAATTTTGGAAGGTTGCTGGGAAACGGTCAGGACAGGAACAGTATGGGAGTGGAGACAAAGAAAATGGCAAACTCGATCGCAACCGCCGGCGAAAATTTCGGAGACCGGATTAAGTCCTGGCCGGAGCGCGTTAAGTTGTTCTATAACGACGTGCGCACCGAAACGCGTAAGGTGACCGCGCCCTCGTGGAAAGAAGTGCAGGCCACAACCGCAGTGGTAGTGATCACCGTATTCATTTTCGGCGTGTATTTTTTCATCATCGATAACCTGATCCAGAAGGGCGTTTCGTTCCTGTACAGCTATTTCGGACACTAAGTCAAGGCGGAGAATGCGGAGTTTAACTTGATCATGCAGGAAGAAGAAAAAAACGAAACAGCTGTAGCGGGCGAGCAGCCATCGGCCGCAGACGGTGCTGCCGTAACCGGCGAAGCGCCGCGCAATCCGAATATGAAGTGGTACATCATCCACTCTTATTCTGGTTTCGAGCGCAAGGTAAAGGAATCGCTGGAGTCACGCGTCGCGGCGTTCGGCTTGCAGGGAAAGATCGGCAAAGTGCTGATCCCGACCGAGTCGGTCACCGAAGTTCGCGGCGGCAAGAAGTATACTTCCGAGCGCATGTTCTATCCCGGCTACGTGCTGGTCGAAATGGATATGGACGATCACGTCTGGCACGTGGTGAAGTCGACGCCGCGCGTGACGGGTTTCGTTGGCACAGGCCAGCAGCCCACGCCGCTATCCGATGAAGAAGTTCAGCACATCGTTTATAAAGTTGCCGACAGCCGCGAGAAGCCCAAGCTCAAGGTCAAGTTCGAGAAGGGCGAGACGGTACGCATCGGTGAAGGCCCGTTTGCTACATTCACTGGTCTGGTCGATGACGTGAATGAGGATCGCGAGACTTTAAAAGTAATGGTGACAATTTTCGGCCGCTCGACCCCGGTGGAACTTGAGTTCAGCCAGGTGGAGAAGGTGGCGTAGGAATTTAATAATTGAGTAATTTTGTAATTGAACCCCGAAGGAAATCTTAGATGGCAAAGAAAGTTACAGGTTTCGTAAAGTTGCAGATTGCAGCGGGCAAGGCGACTCCGGCCCCGCCGGTAGGTCCGGCGCTCGGTCAGGCGCAGATCAACATCATGGAGTTCTGCAAGCAGTTCAACGCGCGCACGAGCCAAAAAGAGATGGAAGGTTTAATCATTCCGGTCGTGGTGTCGGTATATAACGACCGCTCGTTCACCTTCATCACTAAGACGCCGCCGGCATCGATTCTTTTGAAGCGCGCCGCCGGTATCGCCAAGGGATCGGGCACGCCGAACAAAGATAAAGTCGGCAAAGTAACGCTGAAACAAGTCGAAGACATCGCTAAACAGAAGATGCCTGACTTGAACGCCGCGTCCGTGGAAACCGCGATCAAGAGCGTTCGTGGCACGGCGCGGTCGATGGGAATCGAAGTCGTTGGGTGATTAAGCGATCGGGTGATTGTGCGATTGAAAAATCAAATCACCCAACCACAAATTACTCAATCGGAAATGTCACAAACACCACGGCCGATCGAAGCACCGATCTGCGGTGGGAGACAAGGAAAAGCCAATGAAAAAAGAAGGAAAAAATATCGCTAAGGCGCATGCTTCAGTAGAGAAGCGCCCGTATACGCTGCAGGATGCGGTTCCGCTTCTGCAGAAAGTCAAGTTCGCGAAATTCGATGAGACCGTCGAAGTTACAATGCGTCTGGGAGTTGATCCCAAGCACGCTGACCAGATGGTGCGCGGAACGGTCGTTCTGCCGCATGGGCTGGGCAAGTCAAAAAAAGTTCTCGTGATTGCCACCGGCGACAAGATTCGGGAAGCCGAAGCCGCAGGCGCCGATTTTGCGGGCGGCGAAGAGATGGTCGAGAAGATCACGAAGGAAAACTGGACTGACTTTGACGCACTGATCGCTACGCCTGATGTGATGAAATCCGTCGGTCGTCTCGGTAAGATTCTCGGACCCAAGGGTCTGATGCCGAATCCGAAAACCGGCACAGTCACCATGGACGTGGGCAAAGCGGTGCAGGAAGTAAAGGCCGGAAAAGTGGAATTCCGTACCGACAAGACCGCGCTGGTGCACTGCCCGGTAGGAAAAATTTCATTCTCGCCCGACAAGTTGATCGAAAACGCGACCGTGCTGATCACCAGCGTAATCAAAGCCAAGCCGTCGGTCGCCAAGGGCAAGTACATCAAGGGCTGCACGCTGAGTTCGACCATGGGGCCGGGAATTCTGCTGGATACGGCGCCCATCGAGACGGCAGCGAAAGCCTAGAGCATTGCCGGGCTTTCGCCCGACGGACAGCCGAGGTGGCTGCCCCACATTAAGATCAATTCTAAAGAGGGATCGATTTATGGCGGTTACGAAAGCTAGAAAGAAAGAACAAGTCGAAAAGCTGAGCGCGGACCTGAAGAACGTTTCCAGCGCGGTCGTCGCGACCTACAGCAAAATGACCGTTGCCCAGGACTACGACCTGCGCAAAGCGCTGCGCGGCGCGGGCGCAAAGTATCAAGTTGTGAAGAACACTTTGGCCGAGCGAGCCGCCAAGGGCACCAAGATTGAAGAGGGGTTGAAGAATCTTTCCGGCGTCACCTCGATCGCCTACACCACGGGTGATCCCGTGGCTATGGCCAAGGCGCTCACCAAGTACGCCAAGGACACGCCGGAATTCACCTTCAAAGTCGGCGTGGTAGAAGGCCGGGTGATTTCGATCAAAGAGATCGAAGCGTTGGCCTCCATGCCTTCGAAGGAAGAGCTTTATTCGAAGTTGCTGTTCCTGTTAAACGCTCCGGCGCAACGGCTGGTGACGGCAATGGGAGCGGTCGGACGCAACCTGGCGGTTGTAGTCGATCAAGGCGTGCAGCAGAACAAGTTCAAGGAAGCCTAAGAATTTTGTAATTGGGCAATTTTGTAATTTGGTAATTGAGAACCAAAAAGCAAGATGCCCCGTTCGTAAGAGTTTGGTTATCGGTGTCAAGGGTTGTGCAGGCGTTGGCGATACGTTGTCTGGCGTTTCGTTGATAGCAATTGCGCGCACTGGAAACTTGCCGCGGATAACGCAATCGGGCGAAAGCCCTCGATTGAGCAATGGAGAAGTCGGGTCCTTGAAACTGCCCGATTGCGAAATTACTCAGTTACCAAAATTTTTGATACTGGAGAACTAACAATGGCGGATCTGCAACAACTCGAAGAATCAATCGTAGCTTTGTCGCTGCTGGAGGCGGCGGAGCTGGTCAAGAAACTGGAATCGCGTCTCGGCGTGTCGGCGGCGGCAGCGGCCCCGGTGATGGTCGCCGGCGGCGGAGCGGCAGCGGGCGCAGGTGCGGCCCCGGCCGAAGAGAAGACCGAGTTCACCGTGGTGCTGAAAGAAGTCGGCGCCAACAAGATCAACGTGATC'"
      ]
     },
     "execution_count": 20,
     "metadata": {},
     "output_type": "execute_result"
    }
   ],
   "source": [
    "most_likely_seqs[16]"
   ]
  },
  {
   "cell_type": "code",
   "execution_count": 9,
   "id": "19b2c8b6-547e-42a4-b7ad-ba87ba1105bd",
   "metadata": {
    "tags": []
   },
   "outputs": [
    {
     "name": "stdout",
     "output_type": "stream",
     "text": [
      "Getting perplexity for 2000 sequences\n",
      "Model directory: /global/homes/z/zhwang/RD_cfs/projects/LLMs/genomeocean/MOE_DNA/mistral_4B_1024_add1/checkpoint-55000\n",
      "Using flast_attn 2\n",
      "flash_attn_func supports window_size: True\n"
     ]
    },
    {
     "data": {
      "application/vnd.jupyter.widget-view+json": {
       "model_id": "d53b775b74f045749d179465c708ce59",
       "version_major": 2,
       "version_minor": 0
      },
      "text/plain": [
       "Loading checkpoint shards:   0%|          | 0/2 [00:00<?, ?it/s]"
      ]
     },
     "metadata": {},
     "output_type": "display_data"
    },
    {
     "name": "stderr",
     "output_type": "stream",
     "text": [
      "2000it [02:12, 15.08it/s]\n"
     ]
    },
    {
     "data": {
      "text/plain": [
       "<Axes: >"
      ]
     },
     "execution_count": 9,
     "metadata": {},
     "output_type": "execute_result"
    },
    {
     "data": {
      "image/png": "[encoded data removed]",
      "text/plain": [
       "<Figure size 640x480 with 1 Axes>"
      ]
     },
     "metadata": {},
     "output_type": "display_data"
    }
   ],
   "source": [
    "ppls = plot_dataset_perplexity(data, num_seqs=2000, max_seq_len=5000)\n",
    "ppls['score'].hist(bins=100)"
   ]
  },
  {
   "cell_type": "code",
   "execution_count": 19,
   "id": "1dd10f37-8ffd-43e2-991a-e6a6c5dbeed4",
   "metadata": {
    "tags": []
   },
   "outputs": [
    {
     "data": {
      "text/plain": [
       "[35.88,\n",
       " 41.32,\n",
       " 59.82,\n",
       " 56.76,\n",
       " 52.84,\n",
       " 49.46,\n",
       " 41.54,\n",
       " 59.54,\n",
       " 47.6,\n",
       " 51.74,\n",
       " 58.06,\n",
       " 51.82,\n",
       " 54.46,\n",
       " 56.3,\n",
       " 55.18,\n",
       " 56.44,\n",
       " 62.18,\n",
       " 57.82,\n",
       " 60.14,\n",
       " 49.88,\n",
       " 52.66,\n",
       " 54.12,\n",
       " 41.06,\n",
       " 52.38,\n",
       " 54.26,\n",
       " 63.62,\n",
       " 56.96,\n",
       " 54.5,\n",
       " 49.36,\n",
       " 63.82,\n",
       " 46.86,\n",
       " 53.22,\n",
       " 47.3,\n",
       " 61.18]"
      ]
     },
     "execution_count": 19,
     "metadata": {},
     "output_type": "execute_result"
    }
   ],
   "source": [
    "# most unpredictable sequence\n",
    "most_unpredictable_seqs = list(ppls.loc[ppls['score']>600, 'seq'])\n",
    "[GC(s) for s in most_unpredictable_seqs]"
   ]
  },
  {
   "cell_type": "code",
   "execution_count": 21,
   "id": "7d49598c-2d4c-4b07-b0b6-a99228ee870a",
   "metadata": {
    "tags": []
   },
   "outputs": [
    {
     "data": {
      "text/plain": [
       "'ACTTCAAAGCTTTCTGCCGCATATTCCGGATATGAACTGATGAAGATAACGAGAGGCGGTTCTGCTAATAATTTAATAGCAGCAATGCCATTTATACCAGGCATTTTAATATCAGAGATTATCAAATCTGTTTTGTTTTCTTTAATGAATATAATGGCTTCGATAGGGTTTGAAAAACTACCTATCACATTAATGTAGGATATTTCCTTCAGCTCATTGATTAAATGTTGCAGATCTTCCTTGTTATCTTCTAATAAAACTGTTTTTATACTCATGCGTGTATTTGTAAATAAGCGGTGGCTACATTGTTATTGAATTCTATTCTTAATTTGTAATTGTTCTGTTTGGCTAAATCTTCGCATAACTTGATGCCGATACCCGTACCAGCCTCTATTACTTCAGAACAAGTGTTTACAATACTAATCTCATTTCCTGTTTGGGATATTAAAATAGTTTCAGATTCATTCGCATATTTTGATGCATTGGTCAGGAGATTTCTTAATATGACAAGTGTAGTATCATAATCACCTGTAAAAGTAAAAGCTTCATCCATGTTCACCCTGACCCTCTGATTCTTGCTATTAACTAAATAAGCAGTTTGATTAATAACTTCTTCTATTATTTTGGATAAAATTATTTTTACAGGGGTTAATTGGCTCTTGTTTAGTTGGGGATAGCTCCAGTGAAGCAAGTTGTCCAGAATATTCAAAGCACTTAAGGCCTTATTCTTCGCATCCGAATTATTGTTTACAATGGAGCTGATAGGGCTTCGCAAATCGTGCGATATAATGGTAAACACATTGTTTTTAAAGTCATTTAATTCTGATAGCTCCTTATTCAATCTTCTTTGCTTTCTGACTAAATAGGAGGTTAACACTACGATGAGCACAGTCAAAATAAACAAAGCAGAAATAAAATAAATCCTTGTGTTCTGTTTTTGTATTAAAAAATTCTTTTCTGTAATATCAGTTTTGTCTTTTAAAAGTTCGTTGTCTTTCTCAACGGATTTATATTTGATGTTTAACTCATTGATTTTATCGGTATTTTCTTTTCCGAAAACAGAATCCTTTTCGGCAGTGTATCTTTCAAAAGTTTCAAAGGCCTTTTTATAATTACCGATGCGTTTGTAATAATCTGCCTCATACCATTTCGTAGTTACCAAGAGGTCGGTTTGCCCAAAGAGGTGAACATAATAAAGGCCGGAATCCAAACAGACCTTAGCTTTTTGCATGTTATTTAAATTAGCATAGCAGGTATACAGGTTCGTGTAAACAACGCCCAGTGGCTCTGAAAAACTATGGCTTAGATAAATGGCTTTGGCTGTTTCAAAGCTGGAAGTAGCTTTTGGAATATCATCATTGTCAAAATACTCAGTCCCTTCTTCCTTATAACAATCAGCCAGCGCTAAAGAATCACCGATTTCGATAGCTGACTTTTTTGCTTTATCTAAATACACCAAACCTTCCTTATTTTTCTTTAAAGTGAATAGGGTAGTGGCTAAACCTATCTGTGTGCTGGCTAAATTTTCTTTCAGCTTGTATTTTTCTAACAGGGGTAGAGCCAGCTTAAAATATTTCTCTGCTTCCGCTTCATTCCTTGAGTACAGCATGGTCAGTGCCATACTATTATAAACGCCTGCCAGACTTTTGAGATTATCTTTCTTTTTGTAATAATCAGCGCATTGAGCTAGTAATTCAAAAGCCTTATCCGTATTGCCAAAATCTCTTTCTGCGTTTGATTTATTTCTTAAGATGCCGTAGTAATTATTGGTGTCTTTATTTTGTTTTGCTAGCAGTAAAGCATCATTAAAAAGTTTATAAGCTCCTTTTATGTTGTTCTCCCAGTAATAAGTATATAAACCTTTCAGGTTGATATATTCGTCTTCATAGGTTTTATTTAAATCAGCGGCTTTCTGCACCTGATTTAAAAAATACAAAGTAGAATCCTTATCGGATTTTAAATAAGCAGTAAATTTTTTAGATAATAACGAAACATCATTTTGCGCCTTTACATGAATTGCTAATACAACAGCAGTTAGTAGTAACAGATACTTTTTTAATATGTATTTCATAGAGCGGTCAAAATTAGTATTTCAGCTAAGCCTTGCAAGAAATGATTGAATAAAATGAACCATTTGAACAAATTGACCAAGAACAAGCTCGTTTTTAGCATTTCATACAGCAGTGTTTTCGCCGGTATCTGCTATACTCGTGTAAAGCAAAAAACATGAACACGATTAAGAACTGGCTCGTAAGTGATGCAAAAGGCAGAAGCATATTCTATTTTAAACTATACACCATTAACGAAATATCCGCCAGCCTGTATTTTGATTCCAGCATTTTGTTTCGGGCAAGTGATACAAAACTTATAGATTTTATTGAGCTATTAATATCACATGAATTGCCGATAGAAAAGAAAGATGCCATTGCGTCTGAGTTGTTTGAAGCGGTACAGAAGATTGAGTACTACGAGCAGTTTTATTTTGATGAGACCGTATTGGATAAGGACGGCAGGTTAAACCTATCTTCTTATGAGGTCATGCAGAAGATAAATATGGAAAGGCTTGAGAACAGCCACCTGTTGCCGATTTCTAAATACAGTTACCGCGAACTCTTTGTAGTTCTTAGAACCCATTTCCATCTGAACATGGAAGAAGTCATGGCTTGCTCTAAAATAATTACCAAAAGTGCATTTGAAGAGCAGTTGGTTACTGAATTACTAAAGTACCATTATGTTTATTCTTATCATGCCGATAATGTATTTTACTTATACAAAGGGGAATCAGCGGGTGATACTTATTTCATCATGAATAAAGGTGAGCTATTGTTTGCCTTTGATACTAAGTAATATCAGGCAGGTTCGATACTACTCAAGAAGTATAAAAATACACGCACAGGCACGCAATTAAGTAGCGATAAATGGTGCCTCTGTGGTTTAATAATAAATCCAACCCAAAAACCAATCATATGATAGAACAATTAAAGAAAGCGGTCTTAGAAAAAGAAATTTCCAAAACCGGTAAAACCAACAGCAACTATTTAGCCCAATTAGAAAAAGAACTGACCGGTTATACTGATTCAAAAGTATATGAGTTTCTGAAAAAGGGAGATTTAGGAAACATTTTTGAAAACACATTCATGTCTAACTGGATGGATGAGTTCCCAATGAAAAACTTAGATGACCTTCGTAATGCTATGTATTTCAGCGCATGGAAAAACGATTACTTTGTGGAAGAGTACATAGGAATAAGAAGCATCTGGTCAGCTGAAACAATCAGCGGTGATAAAAGAATACATGATGTATATGATAAAACACACGGATCATTGCTGTATACGGAAGATGTCGCAGAAGTCATGTCCATAGTTTTTGGGATTAATAAAGGGGAGAGCCATCGGATAATATCTGAGCTGAAAGATGAATATTGGCTGGAAAACAAAGATGACCCTAAAGAGTTTTACGCGAGATTTATCGAAGCAGGCTTAAAAAACACCACAGAAAGCAACTATATTTTAAGACATATTGCATCCGATGTGTTTTTAGCATCTTCCTATTGTTATCCTAAAGAAGCATTAATGAATAGAGCAAAAACAGCGTACCAGTTAGCTTATTTTAAAACCTATCACCCGGAGCAGTTTAATAAATGCTTTGAGCAGTTCACCCAATAGCCCTTCTTACTAATTAGTAATTGTTTCTTTTTTGGATAAGCTCAAACACCCTATATAATGTATGGCAATAAAAAAAGCAACCAACCAGCATGAAACGGCAACTCAAAAAACTCGTTTACGAGAAAGGCAAAGAGAAAATCGATGAAATTACCGACTATTATAAATACAGGATAGCGGCGGAACTGAAAATAATAAAGGAACTGAATGCAGAAGATATTATTCTTTCCTTAGAAAGAGTAGTTTCCACTGCCAAAAAACTTAGTGTTTCGCTTGAGGTAGAGCAGGAGCATGTAAAGAGTTCTTTCGTTTGTTATCTATTAGGGATTACAAAAACCAATCCTGTTGAAGCCGGATTAAGATTTGAATTACCGGCAGACATGGGAGAAATAAGTATTGAACACTCGCCCGAAGACATGTATGCCATGCAGGAAGAATTTTCAGAAGAGGACAAAAAGCTGTTTTTCGATATTTCAGTAAAGTATGCGCCAAAACAAGAACCAACAGAAAATCGTTAGAAACTCCCTGCAATCCTAAGCTCTTGGAAACCAAGAGCTTTTGCATTTACTCCTTTTTTTACAGGTAAATACAGGTGTTTTCTCCGCAGCCGTGTCGCCGGGATCTGCTATCTCTGTTATAACCAAAACTTAAAACCCATGAAAACAGAGAAAGCAAGAGAAGTAATCATTCAGGCACTGAAGGAAAAAACAACCGTAACCGCCCATGAAATAAATACGGTCAGTAAGGGCAGTATCATTTTTGTGCAGATATATGCTGTAATGAACGCGCTCATTAAAGATGGCGCCGTTCAGGTGAATGAAAGCGAAGGCAAGAAACAATACACGTTGGTTGATGCAGAAAAACTGAAAGACAATGTTGAACCTGCCCCGGTTACAAAAACAGAACAACCGAAAGAAACTCCTGATAAGGAAGAGAAAGAAAAGAAAGAAGAAAAAGCAGAGAAAGTAACCAAACCCAAAAAGAAAGCCGGCAGGGATATGACTACCTATCAGTTCAACGGTAATACGTACAACAAAGGAAGACTGGCGCATGCGGTAATTGCCCAATATGCCAAAGAGAAGAAACCAAGCCTTAAAACAGCTTTAGAACTGTTTAAAGATGAGATTGTGCCTCCTTATGGATTGATAAAAGAAATAAAGGAAGCGCGTAAACTCAGCAAACCCTACCAGCGCTTCTTTATCAAACCGGAAGAAGAAATCAAACTGAGGGATTGTTCTATCGGGGTATCCAATCAATGGACACCGGATCGAATAGAAGCATTGATAGCAATTGCCAGAAAACAGCTTGGATACAAGATCAAATAATTAGCTTTTTTTG'"
      ]
     },
     "execution_count": 21,
     "metadata": {},
     "output_type": "execute_result"
    }
   ],
   "source": [
    "most_unpredictable_seqs[0]"
   ]
  },
  {
   "cell_type": "code",
   "execution_count": 22,
   "id": "26f66aeb-6f91-4136-864b-4a0c9133cece",
   "metadata": {
    "tags": []
   },
   "outputs": [
    {
     "data": {
      "text/plain": [
       "array([[1.        , 0.83485576],\n",
       "       [0.83485576, 1.        ]])"
      ]
     },
     "execution_count": 22,
     "metadata": {},
     "output_type": "execute_result"
    }
   ],
   "source": [
    "np.corrcoef(ppls['score'], scores['score'])"
   ]
  },
  {
   "cell_type": "code",
   "execution_count": null,
   "id": "51e26574-c3b5-4728-b865-ee83699bc423",
   "metadata": {},
   "outputs": [],
   "source": [
    "plot_dataset_perplexity"
   ]
  },
  {
   "cell_type": "code",
   "execution_count": 23,
   "id": "1e741a39-a395-4cb7-afdb-e043ff7a5bdc",
   "metadata": {
    "tags": []
   },
   "outputs": [
    {
     "name": "stdout",
     "output_type": "stream",
     "text": [
      "Getting perplexity for 2000 sequences\n",
      "Model directory: /global/homes/z/zhwang/RD_cfs/projects/LLMs/genomeocean/MOE_DNA/mistral_4B_1024_add1/checkpoint-55000\n",
      "Using flast_attn 2\n",
      "flash_attn_func supports window_size: True\n"
     ]
    },
    {
     "data": {
      "application/vnd.jupyter.widget-view+json": {
       "model_id": "c2f56ef82ba4475bbe766e443df7d25e",
       "version_major": 2,
       "version_minor": 0
      },
      "text/plain": [
       "Loading checkpoint shards:   0%|          | 0/2 [00:00<?, ?it/s]"
      ]
     },
     "metadata": {},
     "output_type": "display_data"
    },
    {
     "name": "stderr",
     "output_type": "stream",
     "text": [
      "2000it [01:34, 21.11it/s]\n"
     ]
    }
   ],
   "source": [
    "data = '/global/homes/z/zhwang/RD_cfs/zhwang/metagenomic_datasets/antarctic.fa'\n",
    "scores = plot_dataset_perplexity(data, num_seqs=2000, max_seq_len=5000)"
   ]
  },
  {
   "cell_type": "code",
   "execution_count": 24,
   "id": "b1b3eb05-d9f9-47a7-95d3-f5662f19725d",
   "metadata": {
    "tags": []
   },
   "outputs": [
    {
     "data": {
      "text/plain": [
       "<Axes: >"
      ]
     },
     "execution_count": 24,
     "metadata": {},
     "output_type": "execute_result"
    },
    {
     "data": {
      "image/png": "[encoded data removed]",
      "text/plain": [
       "<Figure size 640x480 with 1 Axes>"
      ]
     },
     "metadata": {},
     "output_type": "display_data"
    }
   ],
   "source": [
    "# negative log10 likelihood\n",
    "scores['score'].hist(bins=100)"
   ]
  },
  {
   "cell_type": "markdown",
   "id": "c6b5bac5-92d4-450e-8cc6-313b8b6d6ac3",
   "metadata": {
    "jp-MarkdownHeadingCollapsed": true,
    "tags": []
   },
   "source": [
    "### not in training"
   ]
  },
  {
   "cell_type": "code",
   "execution_count": 22,
   "id": "e56ad655-edc3-4f88-8bc0-cf2d64406579",
   "metadata": {
    "tags": []
   },
   "outputs": [
    {
     "name": "stdout",
     "output_type": "stream",
     "text": [
      "Getting perplexity for 2000 sequences\n",
      "Model directory: /global/homes/z/zhwang/RD_cfs/projects/LLMs/genomeocean/MOE_DNA/mistral_4B_1024_add1/checkpoint-55000\n",
      "Using flast_attn 2\n",
      "flash_attn_func supports window_size: True\n"
     ]
    },
    {
     "data": {
      "application/vnd.jupyter.widget-view+json": {
       "model_id": "1a01a39906c544dc96a7bced4a9f7017",
       "version_major": 2,
       "version_minor": 0
      },
      "text/plain": [
       "Loading checkpoint shards:   0%|          | 0/2 [00:00<?, ?it/s]"
      ]
     },
     "metadata": {},
     "output_type": "display_data"
    },
    {
     "name": "stderr",
     "output_type": "stream",
     "text": [
      "2000it [01:06, 30.26it/s]\n"
     ]
    },
    {
     "data": {
      "text/html": [
       "<div>\n",
       "<style scoped>\n",
       "    .dataframe tbody tr th:only-of-type {\n",
       "        vertical-align: middle;\n",
       "    }\n",
       "\n",
       "    .dataframe tbody tr th {\n",
       "        vertical-align: top;\n",
       "    }\n",
       "\n",
       "    .dataframe thead th {\n",
       "        text-align: right;\n",
       "    }\n",
       "</style>\n",
       "<table border=\"1\" class=\"dataframe\">\n",
       "  <thead>\n",
       "    <tr style=\"text-align: right;\">\n",
       "      <th></th>\n",
       "      <th>seq</th>\n",
       "      <th>score</th>\n",
       "    </tr>\n",
       "  </thead>\n",
       "  <tbody>\n",
       "    <tr>\n",
       "      <th>contig_21_51809_length_285_multi_3_in_0_out_0</th>\n",
       "      <td>TTTAGAATGCAAATTAACCACGTCTCCCCAATTTACAGGGTGTCCT...</td>\n",
       "      <td>6.193606</td>\n",
       "    </tr>\n",
       "    <tr>\n",
       "      <th>contig_21_220299_length_217_multi_2_in_0_out_0</th>\n",
       "      <td>TCTGTCATGTGTCAGATCGCGGGGCTTGGAAGAATCAGAGAGATCC...</td>\n",
       "      <td>6.586954</td>\n",
       "    </tr>\n",
       "    <tr>\n",
       "      <th>contig_21_317047_length_216_multi_2_in_0_out_0</th>\n",
       "      <td>CTAAACGAGGCATGAGACTGTCCAAGTTTAGAGAGAGATGAATGGA...</td>\n",
       "      <td>6.635801</td>\n",
       "    </tr>\n",
       "    <tr>\n",
       "      <th>contig_21_372421_length_215_multi_2_in_0_out_0</th>\n",
       "      <td>GAAACCTTTGATGCCAATCGTGAGTTAACCGGACTGGGTCTGGCCA...</td>\n",
       "      <td>5.230331</td>\n",
       "    </tr>\n",
       "    <tr>\n",
       "      <th>contig_21_389648_length_230_multi_1_in_0_out_0</th>\n",
       "      <td>ACAGGCATCTATTATATCTCGCAGCCGGATACTAAAATCCTCACGC...</td>\n",
       "      <td>6.420990</td>\n",
       "    </tr>\n",
       "    <tr>\n",
       "      <th>...</th>\n",
       "      <td>...</td>\n",
       "      <td>...</td>\n",
       "    </tr>\n",
       "    <tr>\n",
       "      <th>contig_21_181260191_length_255_multi_3_in_0_out_0</th>\n",
       "      <td>AAGGATATATCAATGGTGGCATTAACACTATCGAGAAGATTATCAG...</td>\n",
       "      <td>6.506928</td>\n",
       "    </tr>\n",
       "    <tr>\n",
       "      <th>contig_21_181277432_length_267_multi_2_in_0_out_0</th>\n",
       "      <td>AGTCTGCTACTGACCGTATTTACGTCGGTCACGGCAGAGACCGCGA...</td>\n",
       "      <td>6.855075</td>\n",
       "    </tr>\n",
       "    <tr>\n",
       "      <th>contig_21_181325485_length_201_multi_3_in_0_out_0</th>\n",
       "      <td>ATCTTTTGTCAAAAGACTGGACAAATGCCAGCGACCCCTGGTGGAT...</td>\n",
       "      <td>6.867580</td>\n",
       "    </tr>\n",
       "    <tr>\n",
       "      <th>contig_21_181351551_length_201_multi_4_in_0_out_0</th>\n",
       "      <td>TAAACACTGGAAGTTCCCTCAGAACAGTCCACAGAAAGTCAGTTTG...</td>\n",
       "      <td>6.280696</td>\n",
       "    </tr>\n",
       "    <tr>\n",
       "      <th>contig_21_181499546_length_337_multi_2_in_0_out_0</th>\n",
       "      <td>AGAAGGTCTCTCCGTAATCGAGTTCTTGCTGCATGAACTCGAGAAC...</td>\n",
       "      <td>6.320066</td>\n",
       "    </tr>\n",
       "  </tbody>\n",
       "</table>\n",
       "<p>2000 rows × 2 columns</p>\n",
       "</div>"
      ],
      "text/plain": [
       "                                                                                                 seq  \\\n",
       "contig_21_51809_length_285_multi_3_in_0_out_0      TTTAGAATGCAAATTAACCACGTCTCCCCAATTTACAGGGTGTCCT...   \n",
       "contig_21_220299_length_217_multi_2_in_0_out_0     TCTGTCATGTGTCAGATCGCGGGGCTTGGAAGAATCAGAGAGATCC...   \n",
       "contig_21_317047_length_216_multi_2_in_0_out_0     CTAAACGAGGCATGAGACTGTCCAAGTTTAGAGAGAGATGAATGGA...   \n",
       "contig_21_372421_length_215_multi_2_in_0_out_0     GAAACCTTTGATGCCAATCGTGAGTTAACCGGACTGGGTCTGGCCA...   \n",
       "contig_21_389648_length_230_multi_1_in_0_out_0     ACAGGCATCTATTATATCTCGCAGCCGGATACTAAAATCCTCACGC...   \n",
       "...                                                                                              ...   \n",
       "contig_21_181260191_length_255_multi_3_in_0_out_0  AAGGATATATCAATGGTGGCATTAACACTATCGAGAAGATTATCAG...   \n",
       "contig_21_181277432_length_267_multi_2_in_0_out_0  AGTCTGCTACTGACCGTATTTACGTCGGTCACGGCAGAGACCGCGA...   \n",
       "contig_21_181325485_length_201_multi_3_in_0_out_0  ATCTTTTGTCAAAAGACTGGACAAATGCCAGCGACCCCTGGTGGAT...   \n",
       "contig_21_181351551_length_201_multi_4_in_0_out_0  TAAACACTGGAAGTTCCCTCAGAACAGTCCACAGAAAGTCAGTTTG...   \n",
       "contig_21_181499546_length_337_multi_2_in_0_out_0  AGAAGGTCTCTCCGTAATCGAGTTCTTGCTGCATGAACTCGAGAAC...   \n",
       "\n",
       "                                                      score  \n",
       "contig_21_51809_length_285_multi_3_in_0_out_0      6.193606  \n",
       "contig_21_220299_length_217_multi_2_in_0_out_0     6.586954  \n",
       "contig_21_317047_length_216_multi_2_in_0_out_0     6.635801  \n",
       "contig_21_372421_length_215_multi_2_in_0_out_0     5.230331  \n",
       "contig_21_389648_length_230_multi_1_in_0_out_0     6.420990  \n",
       "...                                                     ...  \n",
       "contig_21_181260191_length_255_multi_3_in_0_out_0  6.506928  \n",
       "contig_21_181277432_length_267_multi_2_in_0_out_0  6.855075  \n",
       "contig_21_181325485_length_201_multi_3_in_0_out_0  6.867580  \n",
       "contig_21_181351551_length_201_multi_4_in_0_out_0  6.280696  \n",
       "contig_21_181499546_length_337_multi_2_in_0_out_0  6.320066  \n",
       "\n",
       "[2000 rows x 2 columns]"
      ]
     },
     "execution_count": 22,
     "metadata": {},
     "output_type": "execute_result"
    },
    {
     "data": {
      "image/png": "[encoded data removed]",
      "text/plain": [
       "<Figure size 640x480 with 1 Axes>"
      ]
     },
     "metadata": {},
     "output_type": "display_data"
    }
   ],
   "source": [
    "data = '/global/homes/z/zhwang/RD_cfs/zhwang/metagenomic_datasets/sheeprumen.fa'\n",
    "scores = plot_dataset_perplexity(data, num_seqs=2000, max_seq_len=5000)"
   ]
  },
  {
   "cell_type": "code",
   "execution_count": 25,
   "id": "c7ae9e56-aa69-442f-880e-bffea5854139",
   "metadata": {
    "tags": []
   },
   "outputs": [
    {
     "name": "stdout",
     "output_type": "stream",
     "text": [
      "Getting perplexity for 2000 sequences\n",
      "Model directory: /global/homes/z/zhwang/RD_cfs/projects/LLMs/genomeocean/MOE_DNA/mistral_4B_1024_add1/checkpoint-55000\n",
      "Using flast_attn 2\n",
      "flash_attn_func supports window_size: True\n"
     ]
    },
    {
     "data": {
      "application/vnd.jupyter.widget-view+json": {
       "model_id": "29f4ae4d368e4719a5ebd19106d391df",
       "version_major": 2,
       "version_minor": 0
      },
      "text/plain": [
       "Loading checkpoint shards:   0%|          | 0/2 [00:00<?, ?it/s]"
      ]
     },
     "metadata": {},
     "output_type": "display_data"
    },
    {
     "name": "stderr",
     "output_type": "stream",
     "text": [
      "2000it [03:34,  9.34it/s]\n"
     ]
    },
    {
     "data": {
      "image/png": "[encoded data removed]",
      "text/plain": [
       "<Figure size 640x480 with 1 Axes>"
      ]
     },
     "metadata": {},
     "output_type": "display_data"
    }
   ],
   "source": [
    "# similar dataset in the training\n",
    "data = '/global/dna/projectdirs/RD/Metagenome_RD/Trout_Bog_Lake_metagenome/Contigs/Epilimnion/10681.assembled.fna'\n",
    "scores = plot_dataset_perplexity(data, num_seqs=2000, max_seq_len=5000)"
   ]
  },
  {
   "cell_type": "code",
   "execution_count": 28,
   "id": "7090e7e0-7034-4a88-836e-0a3705e55151",
   "metadata": {
    "tags": []
   },
   "outputs": [
    {
     "name": "stdout",
     "output_type": "stream",
     "text": [
      "Getting perplexity for 2000 sequences\n",
      "Model directory: /global/homes/z/zhwang/RD_cfs/projects/LLMs/genomeocean/MOE_DNA/mistral_4B_1024_add1/checkpoint-55000\n",
      "Using flast_attn 2\n",
      "flash_attn_func supports window_size: True\n"
     ]
    },
    {
     "data": {
      "application/vnd.jupyter.widget-view+json": {
       "model_id": "0dcc9ae8e5964b14b0ff71eaa2a51ff5",
       "version_major": 2,
       "version_minor": 0
      },
      "text/plain": [
       "Loading checkpoint shards:   0%|          | 0/2 [00:00<?, ?it/s]"
      ]
     },
     "metadata": {},
     "output_type": "display_data"
    },
    {
     "name": "stderr",
     "output_type": "stream",
     "text": [
      "2000it [02:52, 11.59it/s]\n"
     ]
    },
    {
     "data": {
      "image/png": "[encoded data removed]",
      "text/plain": [
       "<Figure size 640x480 with 1 Axes>"
      ]
     },
     "metadata": {},
     "output_type": "display_data"
    }
   ],
   "source": [
    "data = '/global/dna/projectdirs/RD/Metagenome_RD/Arctic/spades/scaffolds.fasta'\n",
    "scores = plot_dataset_perplexity(data, num_seqs=2000, max_seq_len=5000)"
   ]
  },
  {
   "cell_type": "code",
   "execution_count": 32,
   "id": "2cc5f00a-4d48-4612-87fb-05863a802b1d",
   "metadata": {
    "tags": []
   },
   "outputs": [
    {
     "name": "stdout",
     "output_type": "stream",
     "text": [
      "Getting perplexity for 2000 sequences\n",
      "Model directory: /global/homes/z/zhwang/RD_cfs/projects/LLMs/genomeocean/MOE_DNA/mistral_4B_1024_add1/checkpoint-55000\n",
      "Using flast_attn 2\n",
      "flash_attn_func supports window_size: True\n"
     ]
    },
    {
     "data": {
      "application/vnd.jupyter.widget-view+json": {
       "model_id": "e5e201c9d3484b419c528d143c3adfc9",
       "version_major": 2,
       "version_minor": 0
      },
      "text/plain": [
       "Loading checkpoint shards:   0%|          | 0/2 [00:00<?, ?it/s]"
      ]
     },
     "metadata": {},
     "output_type": "display_data"
    },
    {
     "name": "stderr",
     "output_type": "stream",
     "text": [
      "2000it [02:27, 13.56it/s]\n"
     ]
    },
    {
     "data": {
      "image/png": "[encoded data removed]",
      "text/plain": [
       "<Figure size 640x480 with 1 Axes>"
      ]
     },
     "metadata": {},
     "output_type": "display_data"
    }
   ],
   "source": [
    "data='/global/homes/z/zhwang/RD_cfs/zhwang/metagenomic_datasets/nyc_subway.fa'\n",
    "scores = plot_dataset_perplexity(data, num_seqs=2000, max_seq_len=5000)"
   ]
  },
  {
   "cell_type": "code",
   "execution_count": 10,
   "id": "d44f62e6-76b2-4892-80a4-d2c01fda8124",
   "metadata": {},
   "outputs": [
    {
     "name": "stdout",
     "output_type": "stream",
     "text": [
      "Getting perplexity for 2000 sequences\n",
      "Model directory: /global/homes/z/zhwang/RD_cfs/projects/LLMs/genomeocean/MOE_DNA/mistral_4B_1024_add1/checkpoint-55000\n",
      "Using flast_attn 2\n",
      "flash_attn_func supports window_size: True\n"
     ]
    },
    {
     "data": {
      "application/vnd.jupyter.widget-view+json": {
       "model_id": "c4d9e0cad70a47d49cbc80f0b4f18751",
       "version_major": 2,
       "version_minor": 0
      },
      "text/plain": [
       "Loading checkpoint shards:   0%|          | 0/2 [00:00<?, ?it/s]"
      ]
     },
     "metadata": {},
     "output_type": "display_data"
    },
    {
     "name": "stderr",
     "output_type": "stream",
     "text": [
      "2000it [01:21, 24.66it/s]\n"
     ]
    },
    {
     "data": {
      "text/plain": [
       "<Axes: >"
      ]
     },
     "execution_count": 10,
     "metadata": {},
     "output_type": "execute_result"
    },
    {
     "data": {
      "image/png": "[encoded data removed]",
      "text/plain": [
       "<Figure size 640x480 with 1 Axes>"
      ]
     },
     "metadata": {},
     "output_type": "display_data"
    }
   ],
   "source": [
    "data = '/global/homes/z/zhwang/RD_cfs/zhwang/metagenomic_datasets/hmp2.fa'\n",
    "scores = plot_dataset_perplexity(data, num_seqs=2000, max_seq_len=5000)\n",
    "scores['score'].hist(bins=100)"
   ]
  },
  {
   "cell_type": "code",
   "execution_count": 8,
   "id": "978ab54c-bfa6-42db-8241-07f0d80d5f93",
   "metadata": {
    "tags": []
   },
   "outputs": [
    {
     "data": {
      "text/plain": [
       "<Axes: >"
      ]
     },
     "execution_count": 8,
     "metadata": {},
     "output_type": "execute_result"
    },
    {
     "data": {
      "image/png": "[encoded data removed]",
      "text/plain": [
       "<Figure size 640x480 with 1 Axes>"
      ]
     },
     "metadata": {},
     "output_type": "display_data"
    }
   ],
   "source": [
    "data = '/global/homes/z/zhwang/RD_cfs/zhwang/metagenomic_datasets/hmp2.fa'\n",
    "scores = plot_dataset_perplexity(data, num_seqs=2000, max_seq_len=5000)\n",
    "scores['score'].hist(bins=100)"
   ]
  },
  {
   "cell_type": "markdown",
   "id": "ef716b9b-414a-4a8c-a277-6cd47ec9e5d2",
   "metadata": {
    "jp-MarkdownHeadingCollapsed": true,
    "tags": []
   },
   "source": [
    "## 2. Generation"
   ]
  },
  {
   "cell_type": "code",
   "execution_count": 7,
   "id": "382ad725-25cd-423c-999b-9b9295d122b6",
   "metadata": {
    "tags": []
   },
   "outputs": [],
   "source": [
    "import pandas as pd\n",
    "from Bio import SeqIO\n",
    "import pyrodigal"
   ]
  },
  {
   "cell_type": "markdown",
   "id": "7308fe17-71e6-4c68-ad4e-4909b4f0417d",
   "metadata": {
    "jp-MarkdownHeadingCollapsed": true,
    "tags": []
   },
   "source": [
    "### Take one contig, use all of its ORFs, generate 10 sequences from each using 100nt as prompts\n",
    "\n",
    "Test how likely we can maintain coding regions"
   ]
  },
  {
   "cell_type": "code",
   "execution_count": 8,
   "id": "aa02631d-9c61-4908-bd85-bc82843f5ba6",
   "metadata": {
    "tags": []
   },
   "outputs": [],
   "source": [
    "orf_finder = pyrodigal.GeneFinder(meta=True)"
   ]
  },
  {
   "cell_type": "code",
   "execution_count": 9,
   "id": "c25a1e92-7d2c-4658-98d0-ca7aa051bb48",
   "metadata": {
    "tags": []
   },
   "outputs": [],
   "source": [
    "data = '/global/dna/projectdirs/RD/Metagenome_RD/Trout_Bog_Lake_metagenome/Contigs/Epilimnion/10681.assembled.fna'\n",
    "with open(data, 'rt') as FA:\n",
    "    for s in SeqIO.parse(FA, 'fasta'):\n",
    "        pred = orf_finder.find_genes(bytes(str(s.seq), encoding='utf8'))\n",
    "        break"
   ]
  },
  {
   "cell_type": "code",
   "execution_count": 10,
   "id": "b1368363-21f3-4925-a17a-31b41769a5ff",
   "metadata": {
    "tags": []
   },
   "outputs": [],
   "source": [
    "with open('temp.fa', 'w') as OUT:\n",
    "    pred.write_genes(OUT, sequence_id='test')"
   ]
  },
  {
   "cell_type": "code",
   "execution_count": 11,
   "id": "5eb89842-44ad-43a0-963b-a6073b641a70",
   "metadata": {
    "tags": []
   },
   "outputs": [],
   "source": [
    "seqs = []\n",
    "with open('temp.fa', 'rt') as FA:\n",
    "    for s in SeqIO.parse(FA, 'fasta'):\n",
    "        if len(s.seq) > 450:\n",
    "            seqs.append(str(s.seq))"
   ]
  },
  {
   "cell_type": "code",
   "execution_count": 12,
   "id": "2c8f6681-cff7-4579-b56f-1d8a42eb3c5c",
   "metadata": {
    "tags": []
   },
   "outputs": [
    {
     "data": {
      "text/plain": [
       "147"
      ]
     },
     "execution_count": 12,
     "metadata": {},
     "output_type": "execute_result"
    }
   ],
   "source": [
    "len(seqs)"
   ]
  },
  {
   "cell_type": "markdown",
   "id": "2d07f425-d65a-44b1-8eea-330ef0c29abe",
   "metadata": {},
   "source": [
    "#### long prompts"
   ]
  },
  {
   "cell_type": "code",
   "execution_count": 101,
   "id": "5e92f0ed-5936-462a-bd57-4d723efb8376",
   "metadata": {
    "tags": []
   },
   "outputs": [
    {
     "data": {
      "text/plain": [
       "(array([  0,   1,   3,   4,  16,  20,  29,  35,  37,  38,  45,  48,  49,\n",
       "         51,  52,  53,  54,  55,  56,  57,  58,  66,  67,  72,  76,  77,\n",
       "         78,  79,  82,  83,  84,  89,  99, 103, 109, 123, 125, 127, 130]),)"
      ]
     },
     "execution_count": 101,
     "metadata": {},
     "output_type": "execute_result"
    }
   ],
   "source": [
    "lengths = np.array([len(s) for s in seqs])\n",
    "np.where(lengths > 1200 )"
   ]
  },
  {
   "cell_type": "code",
   "execution_count": 107,
   "id": "0eb98608-a039-45de-9c90-4c51ccc9f14c",
   "metadata": {
    "tags": []
   },
   "outputs": [],
   "source": [
    "prompts = [seqs[s][0:1000] for s in np.where(lengths > 1200)[0] ]"
   ]
  },
  {
   "cell_type": "code",
   "execution_count": 109,
   "id": "8d085236-1451-428a-8af9-f6e952663ea0",
   "metadata": {
    "tags": []
   },
   "outputs": [],
   "source": [
    "%%capture\n",
    "g_seqs = generate_sequences(\n",
    "    model_dir=model_dir,\n",
    "    dna_sequences=prompts,\n",
    "    num_generation_in_total=10*len(prompts),\n",
    "    num_generation_from_each_prompt=10,\n",
    "    temperature=0.7,\n",
    "    min_length=300,\n",
    "    max_length=400, \n",
    "    top_k=128, # use more top_k to increase diversity\n",
    "    penalty_alpha=0.6, # control repeats\n",
    ")"
   ]
  },
  {
   "cell_type": "code",
   "execution_count": 110,
   "id": "414b2dd6-ccac-4f2c-8151-93eec2992f9c",
   "metadata": {
    "tags": []
   },
   "outputs": [],
   "source": [
    "stop_codons = ['TAA', 'TAG', 'TGA']\n",
    "def get_orf_len(s):\n",
    "    for i in range(0, len(s), 3):\n",
    "        if s[i:i+3] in stop_codons:\n",
    "            return i+3\n",
    "    return len(s)\n",
    "\n",
    "g_seqs = pd.DataFrame(g_seqs).rename(columns={0:'seq'})\n",
    "g_seqs['orf_len'] = g_seqs['seq'].apply(lambda x: get_orf_len(x))"
   ]
  },
  {
   "cell_type": "code",
   "execution_count": 113,
   "id": "4648fd2c-c6f6-4038-b642-48449c66c9ce",
   "metadata": {},
   "outputs": [
    {
     "data": {
      "text/html": [
       "<div>\n",
       "<style scoped>\n",
       "    .dataframe tbody tr th:only-of-type {\n",
       "        vertical-align: middle;\n",
       "    }\n",
       "\n",
       "    .dataframe tbody tr th {\n",
       "        vertical-align: top;\n",
       "    }\n",
       "\n",
       "    .dataframe thead th {\n",
       "        text-align: right;\n",
       "    }\n",
       "</style>\n",
       "<table border=\"1\" class=\"dataframe\">\n",
       "  <thead>\n",
       "    <tr style=\"text-align: right;\">\n",
       "      <th></th>\n",
       "      <th>seq</th>\n",
       "      <th>orf_len</th>\n",
       "      <th>length</th>\n",
       "      <th>prompt</th>\n",
       "      <th>ori_seq</th>\n",
       "      <th>ori_len</th>\n",
       "    </tr>\n",
       "  </thead>\n",
       "  <tbody>\n",
       "    <tr>\n",
       "      <th>0</th>\n",
       "      <td>ATGAGTTCTATCGTAGTTGCTGGAGATACCAGCGGTTCAATCACAT...</td>\n",
       "      <td>1002</td>\n",
       "      <td>1787</td>\n",
       "      <td>ATGAGTTCTATCGTAGTTGCTGGAGATACCAGCGGTTCAATCACAT...</td>\n",
       "      <td>ATGAGTTCTATCGTAGTTGCTGGAGATACCAGCGGTTCAATCACAT...</td>\n",
       "      <td>1614</td>\n",
       "    </tr>\n",
       "    <tr>\n",
       "      <th>1</th>\n",
       "      <td>ATGAGTTCTATCGTAGTTGCTGGAGATACCAGCGGTTCAATCACAT...</td>\n",
       "      <td>1002</td>\n",
       "      <td>1786</td>\n",
       "      <td>ATGAGTTCTATCGTAGTTGCTGGAGATACCAGCGGTTCAATCACAT...</td>\n",
       "      <td>ATGAGTTCTATCGTAGTTGCTGGAGATACCAGCGGTTCAATCACAT...</td>\n",
       "      <td>1614</td>\n",
       "    </tr>\n",
       "    <tr>\n",
       "      <th>2</th>\n",
       "      <td>ATGAGTTCTATCGTAGTTGCTGGAGATACCAGCGGTTCAATCACAT...</td>\n",
       "      <td>1002</td>\n",
       "      <td>1710</td>\n",
       "      <td>ATGAGTTCTATCGTAGTTGCTGGAGATACCAGCGGTTCAATCACAT...</td>\n",
       "      <td>ATGAGTTCTATCGTAGTTGCTGGAGATACCAGCGGTTCAATCACAT...</td>\n",
       "      <td>1614</td>\n",
       "    </tr>\n",
       "    <tr>\n",
       "      <th>3</th>\n",
       "      <td>ATGAGTTCTATCGTAGTTGCTGGAGATACCAGCGGTTCAATCACAT...</td>\n",
       "      <td>1002</td>\n",
       "      <td>1774</td>\n",
       "      <td>ATGAGTTCTATCGTAGTTGCTGGAGATACCAGCGGTTCAATCACAT...</td>\n",
       "      <td>ATGAGTTCTATCGTAGTTGCTGGAGATACCAGCGGTTCAATCACAT...</td>\n",
       "      <td>1614</td>\n",
       "    </tr>\n",
       "    <tr>\n",
       "      <th>4</th>\n",
       "      <td>ATGAGTTCTATCGTAGTTGCTGGAGATACCAGCGGTTCAATCACAT...</td>\n",
       "      <td>1002</td>\n",
       "      <td>1791</td>\n",
       "      <td>ATGAGTTCTATCGTAGTTGCTGGAGATACCAGCGGTTCAATCACAT...</td>\n",
       "      <td>ATGAGTTCTATCGTAGTTGCTGGAGATACCAGCGGTTCAATCACAT...</td>\n",
       "      <td>1614</td>\n",
       "    </tr>\n",
       "  </tbody>\n",
       "</table>\n",
       "</div>"
      ],
      "text/plain": [
       "                                                 seq  orf_len  length  \\\n",
       "0  ATGAGTTCTATCGTAGTTGCTGGAGATACCAGCGGTTCAATCACAT...     1002    1787   \n",
       "1  ATGAGTTCTATCGTAGTTGCTGGAGATACCAGCGGTTCAATCACAT...     1002    1786   \n",
       "2  ATGAGTTCTATCGTAGTTGCTGGAGATACCAGCGGTTCAATCACAT...     1002    1710   \n",
       "3  ATGAGTTCTATCGTAGTTGCTGGAGATACCAGCGGTTCAATCACAT...     1002    1774   \n",
       "4  ATGAGTTCTATCGTAGTTGCTGGAGATACCAGCGGTTCAATCACAT...     1002    1791   \n",
       "\n",
       "                                              prompt  \\\n",
       "0  ATGAGTTCTATCGTAGTTGCTGGAGATACCAGCGGTTCAATCACAT...   \n",
       "1  ATGAGTTCTATCGTAGTTGCTGGAGATACCAGCGGTTCAATCACAT...   \n",
       "2  ATGAGTTCTATCGTAGTTGCTGGAGATACCAGCGGTTCAATCACAT...   \n",
       "3  ATGAGTTCTATCGTAGTTGCTGGAGATACCAGCGGTTCAATCACAT...   \n",
       "4  ATGAGTTCTATCGTAGTTGCTGGAGATACCAGCGGTTCAATCACAT...   \n",
       "\n",
       "                                             ori_seq  ori_len  \n",
       "0  ATGAGTTCTATCGTAGTTGCTGGAGATACCAGCGGTTCAATCACAT...     1614  \n",
       "1  ATGAGTTCTATCGTAGTTGCTGGAGATACCAGCGGTTCAATCACAT...     1614  \n",
       "2  ATGAGTTCTATCGTAGTTGCTGGAGATACCAGCGGTTCAATCACAT...     1614  \n",
       "3  ATGAGTTCTATCGTAGTTGCTGGAGATACCAGCGGTTCAATCACAT...     1614  \n",
       "4  ATGAGTTCTATCGTAGTTGCTGGAGATACCAGCGGTTCAATCACAT...     1614  "
      ]
     },
     "execution_count": 113,
     "metadata": {},
     "output_type": "execute_result"
    }
   ],
   "source": [
    "g_seqs['length'] = g_seqs['seq'].apply(lambda x: len(x))\n",
    "g_seqs['prompt'] = g_seqs['seq'].apply(lambda x: x[0:1000])\n",
    "seqs = pd.DataFrame([seqs[s] for s in np.where(lengths > 1200)[0] ]).rename(columns={0:'ori_seq'})\n",
    "seqs['prompt'] = seqs['ori_seq'].apply(lambda x: x[0:1000])\n",
    "seqs['ori_len'] = seqs['ori_seq'].apply(lambda x: len(x))\n",
    "g_seqs = pd.merge(g_seqs, seqs, on='prompt', how='left')\n",
    "g_seqs.head()"
   ]
  },
  {
   "cell_type": "code",
   "execution_count": 114,
   "id": "e8c249eb-ef45-4c52-b5bc-2ffbce82c6c6",
   "metadata": {
    "tags": []
   },
   "outputs": [
    {
     "data": {
      "text/html": [
       "<div>\n",
       "<style scoped>\n",
       "    .dataframe tbody tr th:only-of-type {\n",
       "        vertical-align: middle;\n",
       "    }\n",
       "\n",
       "    .dataframe tbody tr th {\n",
       "        vertical-align: top;\n",
       "    }\n",
       "\n",
       "    .dataframe thead th {\n",
       "        text-align: right;\n",
       "    }\n",
       "</style>\n",
       "<table border=\"1\" class=\"dataframe\">\n",
       "  <thead>\n",
       "    <tr style=\"text-align: right;\">\n",
       "      <th></th>\n",
       "      <th>length</th>\n",
       "      <th>orf_len</th>\n",
       "      <th>ori_len</th>\n",
       "    </tr>\n",
       "  </thead>\n",
       "  <tbody>\n",
       "    <tr>\n",
       "      <th>270</th>\n",
       "      <td>1312</td>\n",
       "      <td>1002</td>\n",
       "      <td>14580</td>\n",
       "    </tr>\n",
       "    <tr>\n",
       "      <th>271</th>\n",
       "      <td>1755</td>\n",
       "      <td>1002</td>\n",
       "      <td>14580</td>\n",
       "    </tr>\n",
       "    <tr>\n",
       "      <th>272</th>\n",
       "      <td>1824</td>\n",
       "      <td>1002</td>\n",
       "      <td>14580</td>\n",
       "    </tr>\n",
       "    <tr>\n",
       "      <th>273</th>\n",
       "      <td>1801</td>\n",
       "      <td>1002</td>\n",
       "      <td>14580</td>\n",
       "    </tr>\n",
       "    <tr>\n",
       "      <th>274</th>\n",
       "      <td>1800</td>\n",
       "      <td>1002</td>\n",
       "      <td>14580</td>\n",
       "    </tr>\n",
       "    <tr>\n",
       "      <th>275</th>\n",
       "      <td>1766</td>\n",
       "      <td>1002</td>\n",
       "      <td>14580</td>\n",
       "    </tr>\n",
       "    <tr>\n",
       "      <th>276</th>\n",
       "      <td>1390</td>\n",
       "      <td>1002</td>\n",
       "      <td>14580</td>\n",
       "    </tr>\n",
       "    <tr>\n",
       "      <th>277</th>\n",
       "      <td>1751</td>\n",
       "      <td>1002</td>\n",
       "      <td>14580</td>\n",
       "    </tr>\n",
       "    <tr>\n",
       "      <th>278</th>\n",
       "      <td>1345</td>\n",
       "      <td>1002</td>\n",
       "      <td>14580</td>\n",
       "    </tr>\n",
       "    <tr>\n",
       "      <th>279</th>\n",
       "      <td>1560</td>\n",
       "      <td>1002</td>\n",
       "      <td>14580</td>\n",
       "    </tr>\n",
       "  </tbody>\n",
       "</table>\n",
       "</div>"
      ],
      "text/plain": [
       "     length  orf_len  ori_len\n",
       "270    1312     1002    14580\n",
       "271    1755     1002    14580\n",
       "272    1824     1002    14580\n",
       "273    1801     1002    14580\n",
       "274    1800     1002    14580\n",
       "275    1766     1002    14580\n",
       "276    1390     1002    14580\n",
       "277    1751     1002    14580\n",
       "278    1345     1002    14580\n",
       "279    1560     1002    14580"
      ]
     },
     "execution_count": 114,
     "metadata": {},
     "output_type": "execute_result"
    }
   ],
   "source": [
    "g_seqs.loc[g_seqs['ori_len'] == max(g_seqs['ori_len']), ['length', 'orf_len', 'ori_len', ]]"
   ]
  },
  {
   "cell_type": "code",
   "execution_count": 115,
   "id": "5cde8b82-429b-4574-b8f5-9b88f2745f13",
   "metadata": {
    "tags": []
   },
   "outputs": [
    {
     "data": {
      "text/html": [
       "<div>\n",
       "<style scoped>\n",
       "    .dataframe tbody tr th:only-of-type {\n",
       "        vertical-align: middle;\n",
       "    }\n",
       "\n",
       "    .dataframe tbody tr th {\n",
       "        vertical-align: top;\n",
       "    }\n",
       "\n",
       "    .dataframe thead th {\n",
       "        text-align: right;\n",
       "    }\n",
       "</style>\n",
       "<table border=\"1\" class=\"dataframe\">\n",
       "  <thead>\n",
       "    <tr style=\"text-align: right;\">\n",
       "      <th></th>\n",
       "      <th>length</th>\n",
       "      <th>orf_len</th>\n",
       "      <th>ori_len</th>\n",
       "    </tr>\n",
       "  </thead>\n",
       "  <tbody>\n",
       "    <tr>\n",
       "      <th>310</th>\n",
       "      <td>1239</td>\n",
       "      <td>1026</td>\n",
       "      <td>1218</td>\n",
       "    </tr>\n",
       "    <tr>\n",
       "      <th>311</th>\n",
       "      <td>1794</td>\n",
       "      <td>1389</td>\n",
       "      <td>1218</td>\n",
       "    </tr>\n",
       "    <tr>\n",
       "      <th>312</th>\n",
       "      <td>1808</td>\n",
       "      <td>1053</td>\n",
       "      <td>1218</td>\n",
       "    </tr>\n",
       "    <tr>\n",
       "      <th>313</th>\n",
       "      <td>1737</td>\n",
       "      <td>1047</td>\n",
       "      <td>1218</td>\n",
       "    </tr>\n",
       "    <tr>\n",
       "      <th>314</th>\n",
       "      <td>1748</td>\n",
       "      <td>1032</td>\n",
       "      <td>1218</td>\n",
       "    </tr>\n",
       "    <tr>\n",
       "      <th>315</th>\n",
       "      <td>1860</td>\n",
       "      <td>1092</td>\n",
       "      <td>1218</td>\n",
       "    </tr>\n",
       "    <tr>\n",
       "      <th>316</th>\n",
       "      <td>1770</td>\n",
       "      <td>1062</td>\n",
       "      <td>1218</td>\n",
       "    </tr>\n",
       "    <tr>\n",
       "      <th>317</th>\n",
       "      <td>1773</td>\n",
       "      <td>1023</td>\n",
       "      <td>1218</td>\n",
       "    </tr>\n",
       "    <tr>\n",
       "      <th>318</th>\n",
       "      <td>1824</td>\n",
       "      <td>1044</td>\n",
       "      <td>1218</td>\n",
       "    </tr>\n",
       "    <tr>\n",
       "      <th>319</th>\n",
       "      <td>1825</td>\n",
       "      <td>1095</td>\n",
       "      <td>1218</td>\n",
       "    </tr>\n",
       "    <tr>\n",
       "      <th>370</th>\n",
       "      <td>1589</td>\n",
       "      <td>1589</td>\n",
       "      <td>1218</td>\n",
       "    </tr>\n",
       "    <tr>\n",
       "      <th>371</th>\n",
       "      <td>1884</td>\n",
       "      <td>1884</td>\n",
       "      <td>1218</td>\n",
       "    </tr>\n",
       "    <tr>\n",
       "      <th>372</th>\n",
       "      <td>1834</td>\n",
       "      <td>1834</td>\n",
       "      <td>1218</td>\n",
       "    </tr>\n",
       "    <tr>\n",
       "      <th>373</th>\n",
       "      <td>1806</td>\n",
       "      <td>1095</td>\n",
       "      <td>1218</td>\n",
       "    </tr>\n",
       "    <tr>\n",
       "      <th>374</th>\n",
       "      <td>1854</td>\n",
       "      <td>1854</td>\n",
       "      <td>1218</td>\n",
       "    </tr>\n",
       "    <tr>\n",
       "      <th>375</th>\n",
       "      <td>1838</td>\n",
       "      <td>1838</td>\n",
       "      <td>1218</td>\n",
       "    </tr>\n",
       "    <tr>\n",
       "      <th>376</th>\n",
       "      <td>1832</td>\n",
       "      <td>1203</td>\n",
       "      <td>1218</td>\n",
       "    </tr>\n",
       "    <tr>\n",
       "      <th>377</th>\n",
       "      <td>1827</td>\n",
       "      <td>1206</td>\n",
       "      <td>1218</td>\n",
       "    </tr>\n",
       "    <tr>\n",
       "      <th>378</th>\n",
       "      <td>1857</td>\n",
       "      <td>1167</td>\n",
       "      <td>1218</td>\n",
       "    </tr>\n",
       "    <tr>\n",
       "      <th>379</th>\n",
       "      <td>1894</td>\n",
       "      <td>1894</td>\n",
       "      <td>1218</td>\n",
       "    </tr>\n",
       "  </tbody>\n",
       "</table>\n",
       "</div>"
      ],
      "text/plain": [
       "     length  orf_len  ori_len\n",
       "310    1239     1026     1218\n",
       "311    1794     1389     1218\n",
       "312    1808     1053     1218\n",
       "313    1737     1047     1218\n",
       "314    1748     1032     1218\n",
       "315    1860     1092     1218\n",
       "316    1770     1062     1218\n",
       "317    1773     1023     1218\n",
       "318    1824     1044     1218\n",
       "319    1825     1095     1218\n",
       "370    1589     1589     1218\n",
       "371    1884     1884     1218\n",
       "372    1834     1834     1218\n",
       "373    1806     1095     1218\n",
       "374    1854     1854     1218\n",
       "375    1838     1838     1218\n",
       "376    1832     1203     1218\n",
       "377    1827     1206     1218\n",
       "378    1857     1167     1218\n",
       "379    1894     1894     1218"
      ]
     },
     "execution_count": 115,
     "metadata": {},
     "output_type": "execute_result"
    }
   ],
   "source": [
    "g_seqs.loc[g_seqs['ori_len'] == min(g_seqs['ori_len']), ['length', 'orf_len', 'ori_len', ]]"
   ]
  },
  {
   "cell_type": "code",
   "execution_count": 116,
   "id": "ca1bdef2-fc0f-43e6-a71e-2f49a2739ae6",
   "metadata": {
    "tags": []
   },
   "outputs": [
    {
     "data": {
      "text/html": [
       "<div>\n",
       "<style scoped>\n",
       "    .dataframe tbody tr th:only-of-type {\n",
       "        vertical-align: middle;\n",
       "    }\n",
       "\n",
       "    .dataframe tbody tr th {\n",
       "        vertical-align: top;\n",
       "    }\n",
       "\n",
       "    .dataframe thead th {\n",
       "        text-align: right;\n",
       "    }\n",
       "</style>\n",
       "<table border=\"1\" class=\"dataframe\">\n",
       "  <thead>\n",
       "    <tr style=\"text-align: right;\">\n",
       "      <th></th>\n",
       "      <th>length</th>\n",
       "      <th>orf_len</th>\n",
       "      <th>ori_len</th>\n",
       "    </tr>\n",
       "  </thead>\n",
       "  <tbody>\n",
       "    <tr>\n",
       "      <th>230</th>\n",
       "      <td>1899</td>\n",
       "      <td>1785</td>\n",
       "      <td>1779</td>\n",
       "    </tr>\n",
       "    <tr>\n",
       "      <th>231</th>\n",
       "      <td>1873</td>\n",
       "      <td>1873</td>\n",
       "      <td>1779</td>\n",
       "    </tr>\n",
       "    <tr>\n",
       "      <th>232</th>\n",
       "      <td>1428</td>\n",
       "      <td>1428</td>\n",
       "      <td>1779</td>\n",
       "    </tr>\n",
       "    <tr>\n",
       "      <th>233</th>\n",
       "      <td>1866</td>\n",
       "      <td>1866</td>\n",
       "      <td>1779</td>\n",
       "    </tr>\n",
       "    <tr>\n",
       "      <th>234</th>\n",
       "      <td>1381</td>\n",
       "      <td>1381</td>\n",
       "      <td>1779</td>\n",
       "    </tr>\n",
       "    <tr>\n",
       "      <th>235</th>\n",
       "      <td>1896</td>\n",
       "      <td>1896</td>\n",
       "      <td>1779</td>\n",
       "    </tr>\n",
       "    <tr>\n",
       "      <th>236</th>\n",
       "      <td>1888</td>\n",
       "      <td>1888</td>\n",
       "      <td>1779</td>\n",
       "    </tr>\n",
       "    <tr>\n",
       "      <th>237</th>\n",
       "      <td>1895</td>\n",
       "      <td>1895</td>\n",
       "      <td>1779</td>\n",
       "    </tr>\n",
       "    <tr>\n",
       "      <th>238</th>\n",
       "      <td>1917</td>\n",
       "      <td>1917</td>\n",
       "      <td>1779</td>\n",
       "    </tr>\n",
       "    <tr>\n",
       "      <th>239</th>\n",
       "      <td>1863</td>\n",
       "      <td>1863</td>\n",
       "      <td>1779</td>\n",
       "    </tr>\n",
       "  </tbody>\n",
       "</table>\n",
       "</div>"
      ],
      "text/plain": [
       "     length  orf_len  ori_len\n",
       "230    1899     1785     1779\n",
       "231    1873     1873     1779\n",
       "232    1428     1428     1779\n",
       "233    1866     1866     1779\n",
       "234    1381     1381     1779\n",
       "235    1896     1896     1779\n",
       "236    1888     1888     1779\n",
       "237    1895     1895     1779\n",
       "238    1917     1917     1779\n",
       "239    1863     1863     1779"
      ]
     },
     "execution_count": 116,
     "metadata": {},
     "output_type": "execute_result"
    }
   ],
   "source": [
    "g_seqs.loc[g_seqs['ori_len'] == np.median(g_seqs['ori_len']), ['length', 'orf_len', 'ori_len', ]]"
   ]
  },
  {
   "cell_type": "code",
   "execution_count": 117,
   "id": "4dbf47ee-e36f-4950-bf32-943236f53d1b",
   "metadata": {
    "tags": []
   },
   "outputs": [],
   "source": [
    "fasta = list(g_seqs.loc[g_seqs['ori_len'] == np.median(g_seqs['ori_len']), 'seq'])\n",
    "fasta = [list(g_seqs.loc[g_seqs['ori_len'] == np.median(g_seqs['ori_len']), 'ori_seq'])[0]] + fasta"
   ]
  },
  {
   "cell_type": "code",
   "execution_count": 140,
   "id": "cfa7587c-9c5f-40f9-8c0c-17a763c2f97c",
   "metadata": {
    "tags": []
   },
   "outputs": [
    {
     "name": "stderr",
     "output_type": "stream",
     "text": [
      "/global/homes/z/zhwang/.local/unknown/pytorch2.0.1/lib/python3.9/site-packages/Bio/Seq.py:2979: BiopythonWarning: Partial codon, len(sequence) not a multiple of three. Explicitly trim the sequence or add trailing N before translation. This may become an error in future.\n",
      "  warnings.warn(\n"
     ]
    }
   ],
   "source": [
    "from Bio.Seq import translate\n",
    "# remove prompts\n",
    "fasta = [translate(fa,to_stop=True) for fa in fasta]"
   ]
  },
  {
   "cell_type": "code",
   "execution_count": 145,
   "id": "4394de76-614d-4166-8a01-83fa627b0ece",
   "metadata": {
    "tags": []
   },
   "outputs": [],
   "source": [
    "with open('median_seq.fa', 'w') as FA:\n",
    "    counter = 0\n",
    "    for fa in fasta:\n",
    "        FA.write('>' + str(counter) + '\\n')\n",
    "        FA.write(fa[332:] + '\\n')\n",
    "        counter+=1"
   ]
  },
  {
   "cell_type": "markdown",
   "id": "e2c62faa-d0b5-43aa-ae4f-0926a3aeefba",
   "metadata": {
    "jp-MarkdownHeadingCollapsed": true,
    "tags": []
   },
   "source": [
    "### Generate from a pFAM"
   ]
  },
  {
   "cell_type": "code",
   "execution_count": 6,
   "id": "36f2a94b-6ccd-424f-b5ab-4e0ec7600c4f",
   "metadata": {
    "tags": []
   },
   "outputs": [],
   "source": [
    "selected_seq = \"\"\"ATGGCAGTAAAACTAACAATATGCGATGAAGTAAATATTAAATTTTCTGGATTATCGCTTGATGCAAGAA\n",
    "AAAAATTAGCAGCAACTTTTAAATATGAAATACCATATGCAAAGTACCAACCAGCATATCGATTAGGTCG\n",
    "TTGGGATGGTACAGTAAGTTTATTTGGTATAGGTGGCTCTGGATATTTAAGTCAGCTTGAATCTATTTTA\n",
    "GATATCTTATCTAAGATGGGTATTCAGTTAGATGAAGTAGATGACCAACGCAACCCAATTAATTTAACAT\n",
    "TTGATGATGTCACCGAAACATATTGGGCAGATCAAGGTAAGGTATGGCCACCTGGGCATCCAACTGAAGG\n",
    "CGCCCCAATTATGTTGCGTGATTACCAGGTAGCTGCCATTAATAAGTTTTTAAAAAATCCGCAAAGTTTA\n",
    "CAAGAAATTGCAACAGGCGCTGGTAAATGTCAACCATTGAATAGTCTAGTATTAACGTCTACAGGCTGGA\n",
    "AAACTATGGGTGATATTAAAATAGGAGATTTGGTGGTTACCCCAACTGGTAAATTATCTAAGGTAATAAG\n",
    "TGTATTTGAACCTGGTGTTAAAGATATATACCAATTAACATTTTCTGATGGAAGAACTGCTAAATCATGT\n",
    "AAAGATCATTTATGGAGAGTTCATAATATTGATTGGAAAACTAATTCTGGACATTGGAGAAATATATCTA\n",
    "CTGAAGAATTGATTAAATTAAAATCAAATACAAAACGTTCTATTGGCATACCATTAGTTTCTATGAAAAA\n",
    "TAATGATACAGACGTTGACTTACCTATGGATCCATGGTTATTAGGATTTTTACTAGGTGATGGAAGTTTT\n",
    "AGAAATGGTCGTATTAATTTTAGTACATCAGATTCTGAACTTGTTAACAAGGTTGAATCAAAATTAAATA\n",
    "ATAGATATAAAGTAAAGCATTTAGGAAAATATGATTACACCATCCAATTTGCAGATTTAAATGACATGAG\n",
    "AGCCAGTCATTCAGAATTGATGAAAATAAAAAGTAGAAATAAGAATGGTCATATAATAAATAATAACCAT\n",
    "ACTTCATTAAATGAATATAGACAAATTATTAATGAGTTAGGATTAGGTGAAACATACAGTCACAATAAAT\n",
    "TTGTCCCAAAAATGTATTTTAATTCCAGCTTTAATCAGAGAATAGAATTAATTAAAGGATTAGTTGATAG\n",
    "TGACGGAACTGTTGACACCTCTAGTGTAAGTTTTACTTCAGTAAGTAAACAATTAGCGTTAGATTTTCAA\n",
    "CAATTAATATGGAGTGTTGGTGGGATAGCAAAAATCGCCACTAAAGAAAAGAATACATATAAGTATAATA\n",
    "ACGATATAAAATTTGGTAAAACGTCATATCGTGTATCAACAAAATATACTACTCCTTGGGAATTGATATC\n",
    "ATTACAACGAAAAATTGATAAAACAAATTTGTTTTATCAGTATGGACCAACATTAAAGTTAAACATAGAG\n",
    "CATATTGAAAAAATTGGTTCAGAGGATGTCAAATGTATTCTTATAGATGACCCAGACCATTTATATATTA\n",
    "CTGACAATTACATTGTTACTCATAATACCATTACTACTGCTACGTTATCCCAAATATGTGAAAAATTTGG\n",
    "TAGGACAATAATCATTGTTCCAAATAAATCATTGGTTGAACAAACTGAAGAAGATTTTATTAACTGTGGA\n",
    "TTAGATGTTGGTGTGTACTATGGTGATAGAAAAGATTTATATAAAACACATACTATTTGTACATGGCAAA\n",
    "GTCTTAATATTTTAGATAAGAAAAGTAAAAATCACGAACACGATATTATATCATTGGCTGAGTTCTTAGA\n",
    "TAATGTAAAAGCAGTTATAGTTGATGAATGTTTTGATGGTAATGCCAAGGTATTATCTGCAGATGGGTCA\n",
    "TATGTCCCGATAAAAGATATAAAATCTGGAGATAAAATCATTAATTATTCAGAAGAAACAAAAGCGTTTA\n",
    "AAGTTGATACAGTTATTAACCAACATAAAAATCTTAACAAATCTAATAATGAAAAAATGTATGAGTTAGA\n",
    "ATTTGACAATGGTAGTATTATTAAAGTAACCGGAAATCACAAATTCTTAACGACTATTGGTTGGGTGCGT\n",
    "GCAGATGAGCTTACAGATATGCATTATATTATTAATAAAACATAA\"\"\"\n",
    "selected_seq = selected_seq.replace('\\n', '')"
   ]
  },
  {
   "cell_type": "code",
   "execution_count": 7,
   "id": "43e0d1e5-d431-477c-b72e-c90ab673ccd0",
   "metadata": {
    "tags": []
   },
   "outputs": [
    {
     "data": {
      "text/plain": [
       "2145"
      ]
     },
     "execution_count": 7,
     "metadata": {},
     "output_type": "execute_result"
    }
   ],
   "source": [
    "len(selected_seq)"
   ]
  },
  {
   "cell_type": "code",
   "execution_count": 8,
   "id": "68fa6fd3-be65-425f-8319-bd71a28c55d7",
   "metadata": {
    "tags": []
   },
   "outputs": [],
   "source": [
    "prompts = [selected_seq[:1000]]"
   ]
  },
  {
   "cell_type": "code",
   "execution_count": 13,
   "id": "60729766-1fcc-42da-8677-457dfa3e8a29",
   "metadata": {
    "tags": []
   },
   "outputs": [],
   "source": [
    "%%capture\n",
    "g_seqs = generate_sequences(\n",
    "    model_dir=model_dir,\n",
    "    dna_sequences=prompts,\n",
    "    num_generation_in_total=10*len(prompts),\n",
    "    num_generation_from_each_prompt=10,\n",
    "    temperature=0.7,\n",
    "    min_length=400,\n",
    "    max_length=500, \n",
    "    top_k=128, # use more top_k to increase diversity\n",
    "    penalty_alpha=0.1, # control repeats\n",
    ")"
   ]
  },
  {
   "cell_type": "code",
   "execution_count": 14,
   "id": "840b4a5b-724d-4587-8055-0708fc698b7b",
   "metadata": {
    "tags": []
   },
   "outputs": [],
   "source": [
    "stop_codons = ['TAA', 'TAG', 'TGA']\n",
    "def get_orf_len(s):\n",
    "    for i in range(0, len(s), 3):\n",
    "        if s[i:i+3] in stop_codons:\n",
    "            return i+3\n",
    "    return len(s)\n",
    "\n",
    "g_seqs = pd.DataFrame(g_seqs).rename(columns={0:'seq'})\n",
    "g_seqs['orf_len'] = g_seqs['seq'].apply(lambda x: get_orf_len(x))\n",
    "g_seqs['length'] = g_seqs['seq'].apply(lambda x: len(x))\n",
    "g_seqs['prompt'] = g_seqs['seq'].apply(lambda x: x[0:1000])\n"
   ]
  },
  {
   "cell_type": "code",
   "execution_count": 18,
   "id": "3c91ce5b-b1cb-481f-9693-594cb430d7a8",
   "metadata": {
    "tags": []
   },
   "outputs": [
    {
     "data": {
      "text/html": [
       "<div>\n",
       "<style scoped>\n",
       "    .dataframe tbody tr th:only-of-type {\n",
       "        vertical-align: middle;\n",
       "    }\n",
       "\n",
       "    .dataframe tbody tr th {\n",
       "        vertical-align: top;\n",
       "    }\n",
       "\n",
       "    .dataframe thead th {\n",
       "        text-align: right;\n",
       "    }\n",
       "</style>\n",
       "<table border=\"1\" class=\"dataframe\">\n",
       "  <thead>\n",
       "    <tr style=\"text-align: right;\">\n",
       "      <th></th>\n",
       "      <th>seq</th>\n",
       "      <th>orf_len</th>\n",
       "      <th>length</th>\n",
       "      <th>prompt</th>\n",
       "    </tr>\n",
       "  </thead>\n",
       "  <tbody>\n",
       "    <tr>\n",
       "      <th>0</th>\n",
       "      <td>ATGGCAGTAAAACTAACAATATGCGATGAAGTAAATATTAAATTTT...</td>\n",
       "      <td>1056</td>\n",
       "      <td>2206</td>\n",
       "      <td>ATGGCAGTAAAACTAACAATATGCGATGAAGTAAATATTAAATTTT...</td>\n",
       "    </tr>\n",
       "    <tr>\n",
       "      <th>1</th>\n",
       "      <td>ATGGCAGTAAAACTAACAATATGCGATGAAGTAAATATTAAATTTT...</td>\n",
       "      <td>1047</td>\n",
       "      <td>2030</td>\n",
       "      <td>ATGGCAGTAAAACTAACAATATGCGATGAAGTAAATATTAAATTTT...</td>\n",
       "    </tr>\n",
       "    <tr>\n",
       "      <th>2</th>\n",
       "      <td>ATGGCAGTAAAACTAACAATATGCGATGAAGTAAATATTAAATTTT...</td>\n",
       "      <td>1020</td>\n",
       "      <td>2247</td>\n",
       "      <td>ATGGCAGTAAAACTAACAATATGCGATGAAGTAAATATTAAATTTT...</td>\n",
       "    </tr>\n",
       "    <tr>\n",
       "      <th>3</th>\n",
       "      <td>ATGGCAGTAAAACTAACAATATGCGATGAAGTAAATATTAAATTTT...</td>\n",
       "      <td>1047</td>\n",
       "      <td>2317</td>\n",
       "      <td>ATGGCAGTAAAACTAACAATATGCGATGAAGTAAATATTAAATTTT...</td>\n",
       "    </tr>\n",
       "    <tr>\n",
       "      <th>4</th>\n",
       "      <td>ATGGCAGTAAAACTAACAATATGCGATGAAGTAAATATTAAATTTT...</td>\n",
       "      <td>1032</td>\n",
       "      <td>1836</td>\n",
       "      <td>ATGGCAGTAAAACTAACAATATGCGATGAAGTAAATATTAAATTTT...</td>\n",
       "    </tr>\n",
       "    <tr>\n",
       "      <th>5</th>\n",
       "      <td>ATGGCAGTAAAACTAACAATATGCGATGAAGTAAATATTAAATTTT...</td>\n",
       "      <td>1077</td>\n",
       "      <td>1950</td>\n",
       "      <td>ATGGCAGTAAAACTAACAATATGCGATGAAGTAAATATTAAATTTT...</td>\n",
       "    </tr>\n",
       "    <tr>\n",
       "      <th>6</th>\n",
       "      <td>ATGGCAGTAAAACTAACAATATGCGATGAAGTAAATATTAAATTTT...</td>\n",
       "      <td>1113</td>\n",
       "      <td>1740</td>\n",
       "      <td>ATGGCAGTAAAACTAACAATATGCGATGAAGTAAATATTAAATTTT...</td>\n",
       "    </tr>\n",
       "    <tr>\n",
       "      <th>7</th>\n",
       "      <td>ATGGCAGTAAAACTAACAATATGCGATGAAGTAAATATTAAATTTT...</td>\n",
       "      <td>2238</td>\n",
       "      <td>2238</td>\n",
       "      <td>ATGGCAGTAAAACTAACAATATGCGATGAAGTAAATATTAAATTTT...</td>\n",
       "    </tr>\n",
       "    <tr>\n",
       "      <th>8</th>\n",
       "      <td>ATGGCAGTAAAACTAACAATATGCGATGAAGTAAATATTAAATTTT...</td>\n",
       "      <td>2328</td>\n",
       "      <td>2328</td>\n",
       "      <td>ATGGCAGTAAAACTAACAATATGCGATGAAGTAAATATTAAATTTT...</td>\n",
       "    </tr>\n",
       "    <tr>\n",
       "      <th>9</th>\n",
       "      <td>ATGGCAGTAAAACTAACAATATGCGATGAAGTAAATATTAAATTTT...</td>\n",
       "      <td>1056</td>\n",
       "      <td>1980</td>\n",
       "      <td>ATGGCAGTAAAACTAACAATATGCGATGAAGTAAATATTAAATTTT...</td>\n",
       "    </tr>\n",
       "  </tbody>\n",
       "</table>\n",
       "</div>"
      ],
      "text/plain": [
       "                                                 seq  orf_len  length  \\\n",
       "0  ATGGCAGTAAAACTAACAATATGCGATGAAGTAAATATTAAATTTT...     1056    2206   \n",
       "1  ATGGCAGTAAAACTAACAATATGCGATGAAGTAAATATTAAATTTT...     1047    2030   \n",
       "2  ATGGCAGTAAAACTAACAATATGCGATGAAGTAAATATTAAATTTT...     1020    2247   \n",
       "3  ATGGCAGTAAAACTAACAATATGCGATGAAGTAAATATTAAATTTT...     1047    2317   \n",
       "4  ATGGCAGTAAAACTAACAATATGCGATGAAGTAAATATTAAATTTT...     1032    1836   \n",
       "5  ATGGCAGTAAAACTAACAATATGCGATGAAGTAAATATTAAATTTT...     1077    1950   \n",
       "6  ATGGCAGTAAAACTAACAATATGCGATGAAGTAAATATTAAATTTT...     1113    1740   \n",
       "7  ATGGCAGTAAAACTAACAATATGCGATGAAGTAAATATTAAATTTT...     2238    2238   \n",
       "8  ATGGCAGTAAAACTAACAATATGCGATGAAGTAAATATTAAATTTT...     2328    2328   \n",
       "9  ATGGCAGTAAAACTAACAATATGCGATGAAGTAAATATTAAATTTT...     1056    1980   \n",
       "\n",
       "                                              prompt  \n",
       "0  ATGGCAGTAAAACTAACAATATGCGATGAAGTAAATATTAAATTTT...  \n",
       "1  ATGGCAGTAAAACTAACAATATGCGATGAAGTAAATATTAAATTTT...  \n",
       "2  ATGGCAGTAAAACTAACAATATGCGATGAAGTAAATATTAAATTTT...  \n",
       "3  ATGGCAGTAAAACTAACAATATGCGATGAAGTAAATATTAAATTTT...  \n",
       "4  ATGGCAGTAAAACTAACAATATGCGATGAAGTAAATATTAAATTTT...  \n",
       "5  ATGGCAGTAAAACTAACAATATGCGATGAAGTAAATATTAAATTTT...  \n",
       "6  ATGGCAGTAAAACTAACAATATGCGATGAAGTAAATATTAAATTTT...  \n",
       "7  ATGGCAGTAAAACTAACAATATGCGATGAAGTAAATATTAAATTTT...  \n",
       "8  ATGGCAGTAAAACTAACAATATGCGATGAAGTAAATATTAAATTTT...  \n",
       "9  ATGGCAGTAAAACTAACAATATGCGATGAAGTAAATATTAAATTTT...  "
      ]
     },
     "execution_count": 18,
     "metadata": {},
     "output_type": "execute_result"
    }
   ],
   "source": [
    "g_seqs"
   ]
  },
  {
   "cell_type": "code",
   "execution_count": 22,
   "id": "d2c2505d-a56c-4e7f-84df-6dcb85dc348c",
   "metadata": {
    "tags": []
   },
   "outputs": [],
   "source": [
    "from Bio.Seq import translate\n",
    "# remove prompts\n",
    "fasta = [translate(fa, to_stop=True)[332:] for fa in g_seqs.loc[g_seqs['orf_len']>2000, 'seq'] ]"
   ]
  },
  {
   "cell_type": "code",
   "execution_count": 23,
   "id": "1a092443-c40d-45ce-985f-1d04af850822",
   "metadata": {
    "tags": []
   },
   "outputs": [
    {
     "data": {
      "text/plain": [
       "['LNTKNNHQGVIPKSFVLNTSKYNDKLIKGILDSDGSVKNGRNVRLVNYKNQSKDIKDIFLLADYIGFLGKYASINYINNSSTRVKLESLKQYDVNGLIPLLELHKQNIVYGSNRFGYDGLSYNVTEKYTDNELFRLALDYKLADKLILESKKLINNKLTSIKNNHISIYKPIDFKNKFKNIFEFKKYRLVTKYAILDIELKYNINQLIKILKYDIEDKVNKLNRNKFKKLIKNNQIKINNNIYELIKNINISYNKYINISYDRVILPIYCINKKVLSTFGNRNFDFKYKFNTSSNFINNITLIKNFNLTSNTQYGVVGLIAPHNSYMDHFIDCLIALNNIYINKKNIKFKILTGNESDKISKYNIDNNIIYNYNKLNSDIIIIDEDDLINNIKKNINYSVIADPHGNNISHSIS',\n",
       " 'LIFLRHLGINANEKGYLPKNYIINKIKHRLELLQGLIDTDGFVNKGKNDYYLVTSNKLLVEDVVELCMSLGFEATKRNKRISVKGFAYRKPDNKFTFICNRFEDVKAGKLLLNNKLKYNRSYNENKYVKIINIDNPNVEVYVVTPDSDTFLQGVSTIAKKYKINLAKISINYVNNNFKLEDFKSKIEEKFNKINNDKFNVVIFDSIIDSKTTNKELSKLFNDTEEYKRISKLGEDFVGSDANKILELNDILDYKLDSKLKENLSFERYTTSKTNNLTNENIVDINKFINNYLGLNKLARFITEHINLSTNVLKEHNIDNNVIIRDSIKLLLIQDIGSKLIEEYLKINFDKYKDEIIDKINNYLSNKESKLLYKKILDKSILNDSIINELYNNINSLFNKYDKLFNQIEELSDKINTNKLDNLDKIIKLIKENKLIDIDIDLNNT']"
      ]
     },
     "execution_count": 23,
     "metadata": {},
     "output_type": "execute_result"
    }
   ],
   "source": [
    "fasta"
   ]
  },
  {
   "cell_type": "markdown",
   "id": "72314341-0cd9-4638-bd36-2487a72d90a3",
   "metadata": {
    "jp-MarkdownHeadingCollapsed": true,
    "tags": []
   },
   "source": [
    "### one with known structure\n",
    "\n",
    "https://www.rcsb.org/structure/5I5P\n",
    "\n",
    ">5I5P_1|Chains A, B|TRAP TRANSPORTER SOLUTE BINDING PROTEIN|uncultured marine bacterium (56765)\n",
    "MHHHHHHSSGVDLGTENLYFQSMEVVLKFHSFPPMPANSNAKFVKPWSEKVLAESNGEIKVEIYPAMQLGGKPPQLVDQVRDGVVDIVWTVAGYTPGRFPHLEAFELPFMPASAEATSQALQEYVDTVAASDLKDYKVLAVFCHAPGKIHTKEKVIKSAADLNGMKMRGPTRVITKMLEGLGATPVGMPVPAVAGALSKGVIDGMVVPWEIMPSFKLHELTKAHTTVSGSRGLYTTPFLFLMNKAKYESLSDEHKKVIDNNAGLALAKLAGQLWDGFEVPARKLALDAGGTIHSLSGGPLAEMKAAGEGLEKDWIKSANDRGLDGAMLVKTAKDLISKYDK\n"
   ]
  },
  {
   "cell_type": "code",
   "execution_count": 2,
   "id": "f923eb81-ff08-4b89-8ec6-9a642a2b946a",
   "metadata": {
    "tags": []
   },
   "outputs": [
    {
     "data": {
      "text/plain": [
       "341"
      ]
     },
     "execution_count": 2,
     "metadata": {},
     "output_type": "execute_result"
    }
   ],
   "source": [
    "len(\"MHHHHHHSSGVDLGTENLYFQSMEVVLKFHSFPPMPANSNAKFVKPWSEKVLAESNGEIKVEIYPAMQLGGKPPQLVDQVRDGVVDIVWTVAGYTPGRFPHLEAFELPFMPASAEATSQALQEYVDTVAASDLKDYKVLAVFCHAPGKIHTKEKVIKSAADLNGMKMRGPTRVITKMLEGLGATPVGMPVPAVAGALSKGVIDGMVVPWEIMPSFKLHELTKAHTTVSGSRGLYTTPFLFLMNKAKYESLSDEHKKVIDNNAGLALAKLAGQLWDGFEVPARKLALDAGGTIHSLSGGPLAEMKAAGEGLEKDWIKSANDRGLDGAMLVKTAKDLISKYDK\")"
   ]
  },
  {
   "cell_type": "code",
   "execution_count": 6,
   "id": "34de932c-133e-4bda-b1e4-e968ea425dc1",
   "metadata": {
    "tags": []
   },
   "outputs": [
    {
     "data": {
      "text/plain": [
       "951"
      ]
     },
     "execution_count": 6,
     "metadata": {},
     "output_type": "execute_result"
    }
   ],
   "source": [
    "selected_seq = \"\"\"GTTCTCATACTTCCTTATCAAGTCGCGTGCAGTTTGCACGAGCATTTCGCCGTCAAGACCGCTCTCGTTG\n",
    "GCGTCAGCGATCCATTGCTGGACCAAAACCTCTCCGGCTGCCTTCATCTCGTCAAGCGAAGCACCGGACA\n",
    "GCTCGTGGAATTCTCCACCGGCTTCCACCGCCAGCTGCCGTGCAGGCGCCTCGAATCCGTCCCACAGCTG\n",
    "GCCAGCCAGCGCTGCCAGCGCCAAGCCGGCATTGTCGTCAATGACCTTCTTGTGGCTGTCCGTCAACGAC\n",
    "TCGTACTTGGCCTGGTTCATGAGGAACAGGAAAGGGGTGGTGTAAAGGCCGCGATCACCCGACGCCACGG\n",
    "TGTGCGCCTTGGTCAGTTCATGAAGCTTGAACGAGGGCATGATTTCCCACGGAACGACCATTCCGTCAAT\n",
    "CACGCCCTTCGACAGGGACGGAGCCACTTCGGGAACCGGCATTCCTACCGGGGTCGCGCCCAAGGCGTCA\n",
    "AGCATCTGGTTGATCACGCGGGTTGGCGCGCGCATTTTAAGCCCCTTCAAATCGTCCATGGACTTAACGA\n",
    "GAGTGTCCTTCGTGTGTATCTTGCCGGGCGCGTGGACGAAAACGGCCAATACCTTATAGTCTTTCAGATC\n",
    "CTCGGCGCCGACCGTCTCAGCATATTCCTGCGCCGCTTGCGAGGTGGCTTCGGCCGAGGCGGCCATGAAC\n",
    "GGAAGATCGAACACTTCCAAGCGGGGGAACCGTCCGGGGGTATATCCTGCGACCGTCCAGACAATGTCCA\n",
    "CCACGCCTTCTCGCACTTGGTCCACAAGCTGGGGTGGACTTCCCCCGAGCTGCATGGACGGATAAATCTC\n",
    "CACGGTGATCTCGCCATTCGATTCCGCTGCGATCTTGTCGGCCCAAGGCTTGACGAAATTGGCATTTGAA\n",
    "TTCGCGGGCATTGGGGGGAACGAGTGAAATTTCAGCGTGAC\"\"\"\n",
    "selected_seq = selected_seq.replace('\\n', '')\n",
    "len(selected_seq)"
   ]
  },
  {
   "cell_type": "code",
   "execution_count": 7,
   "id": "d72e6f7b-20e2-4bd2-96f3-556ff49d842c",
   "metadata": {
    "tags": []
   },
   "outputs": [],
   "source": [
    "prompts = [selected_seq[:500]]"
   ]
  },
  {
   "cell_type": "code",
   "execution_count": 10,
   "id": "223c3133-7060-4c72-9030-b0ca6d207f14",
   "metadata": {
    "tags": []
   },
   "outputs": [],
   "source": [
    "%%capture\n",
    "g_seqs = generate_sequences(\n",
    "    model_dir=model_dir,\n",
    "    dna_sequences=prompts,\n",
    "    num_generation_in_total=20*len(prompts),\n",
    "    num_generation_from_each_prompt=20,\n",
    "    temperature=0.7,\n",
    "    min_length=250,\n",
    "    max_length=300, \n",
    "    top_k=64, # use more top_k to increase diversity\n",
    "    penalty_alpha=0.1, # control repeats\n",
    ")"
   ]
  },
  {
   "cell_type": "code",
   "execution_count": 11,
   "id": "49e893dd-f587-412f-8bd9-0400c311f4d7",
   "metadata": {
    "tags": []
   },
   "outputs": [
    {
     "data": {
      "text/html": [
       "<div>\n",
       "<style scoped>\n",
       "    .dataframe tbody tr th:only-of-type {\n",
       "        vertical-align: middle;\n",
       "    }\n",
       "\n",
       "    .dataframe tbody tr th {\n",
       "        vertical-align: top;\n",
       "    }\n",
       "\n",
       "    .dataframe thead th {\n",
       "        text-align: right;\n",
       "    }\n",
       "</style>\n",
       "<table border=\"1\" class=\"dataframe\">\n",
       "  <thead>\n",
       "    <tr style=\"text-align: right;\">\n",
       "      <th></th>\n",
       "      <th>seq</th>\n",
       "      <th>orf_len</th>\n",
       "      <th>length</th>\n",
       "      <th>prompt</th>\n",
       "    </tr>\n",
       "  </thead>\n",
       "  <tbody>\n",
       "    <tr>\n",
       "      <th>0</th>\n",
       "      <td>GTTCTCATACTTCCTTATCAAGTCGCGTGCAGTTTGCACGAGCATT...</td>\n",
       "      <td>576</td>\n",
       "      <td>1335</td>\n",
       "      <td>GTTCTCATACTTCCTTATCAAGTCGCGTGCAGTTTGCACGAGCATT...</td>\n",
       "    </tr>\n",
       "    <tr>\n",
       "      <th>1</th>\n",
       "      <td>GTTCTCATACTTCCTTATCAAGTCGCGTGCAGTTTGCACGAGCATT...</td>\n",
       "      <td>1336</td>\n",
       "      <td>1336</td>\n",
       "      <td>GTTCTCATACTTCCTTATCAAGTCGCGTGCAGTTTGCACGAGCATT...</td>\n",
       "    </tr>\n",
       "    <tr>\n",
       "      <th>2</th>\n",
       "      <td>GTTCTCATACTTCCTTATCAAGTCGCGTGCAGTTTGCACGAGCATT...</td>\n",
       "      <td>1047</td>\n",
       "      <td>1352</td>\n",
       "      <td>GTTCTCATACTTCCTTATCAAGTCGCGTGCAGTTTGCACGAGCATT...</td>\n",
       "    </tr>\n",
       "    <tr>\n",
       "      <th>3</th>\n",
       "      <td>GTTCTCATACTTCCTTATCAAGTCGCGTGCAGTTTGCACGAGCATT...</td>\n",
       "      <td>690</td>\n",
       "      <td>1305</td>\n",
       "      <td>GTTCTCATACTTCCTTATCAAGTCGCGTGCAGTTTGCACGAGCATT...</td>\n",
       "    </tr>\n",
       "    <tr>\n",
       "      <th>4</th>\n",
       "      <td>GTTCTCATACTTCCTTATCAAGTCGCGTGCAGTTTGCACGAGCATT...</td>\n",
       "      <td>519</td>\n",
       "      <td>1356</td>\n",
       "      <td>GTTCTCATACTTCCTTATCAAGTCGCGTGCAGTTTGCACGAGCATT...</td>\n",
       "    </tr>\n",
       "    <tr>\n",
       "      <th>5</th>\n",
       "      <td>GTTCTCATACTTCCTTATCAAGTCGCGTGCAGTTTGCACGAGCATT...</td>\n",
       "      <td>507</td>\n",
       "      <td>1326</td>\n",
       "      <td>GTTCTCATACTTCCTTATCAAGTCGCGTGCAGTTTGCACGAGCATT...</td>\n",
       "    </tr>\n",
       "    <tr>\n",
       "      <th>6</th>\n",
       "      <td>GTTCTCATACTTCCTTATCAAGTCGCGTGCAGTTTGCACGAGCATT...</td>\n",
       "      <td>579</td>\n",
       "      <td>1043</td>\n",
       "      <td>GTTCTCATACTTCCTTATCAAGTCGCGTGCAGTTTGCACGAGCATT...</td>\n",
       "    </tr>\n",
       "    <tr>\n",
       "      <th>7</th>\n",
       "      <td>GTTCTCATACTTCCTTATCAAGTCGCGTGCAGTTTGCACGAGCATT...</td>\n",
       "      <td>537</td>\n",
       "      <td>1224</td>\n",
       "      <td>GTTCTCATACTTCCTTATCAAGTCGCGTGCAGTTTGCACGAGCATT...</td>\n",
       "    </tr>\n",
       "    <tr>\n",
       "      <th>8</th>\n",
       "      <td>GTTCTCATACTTCCTTATCAAGTCGCGTGCAGTTTGCACGAGCATT...</td>\n",
       "      <td>528</td>\n",
       "      <td>1000</td>\n",
       "      <td>GTTCTCATACTTCCTTATCAAGTCGCGTGCAGTTTGCACGAGCATT...</td>\n",
       "    </tr>\n",
       "    <tr>\n",
       "      <th>9</th>\n",
       "      <td>GTTCTCATACTTCCTTATCAAGTCGCGTGCAGTTTGCACGAGCATT...</td>\n",
       "      <td>696</td>\n",
       "      <td>1395</td>\n",
       "      <td>GTTCTCATACTTCCTTATCAAGTCGCGTGCAGTTTGCACGAGCATT...</td>\n",
       "    </tr>\n",
       "    <tr>\n",
       "      <th>10</th>\n",
       "      <td>GTTCTCATACTTCCTTATCAAGTCGCGTGCAGTTTGCACGAGCATT...</td>\n",
       "      <td>534</td>\n",
       "      <td>1414</td>\n",
       "      <td>GTTCTCATACTTCCTTATCAAGTCGCGTGCAGTTTGCACGAGCATT...</td>\n",
       "    </tr>\n",
       "    <tr>\n",
       "      <th>11</th>\n",
       "      <td>GTTCTCATACTTCCTTATCAAGTCGCGTGCAGTTTGCACGAGCATT...</td>\n",
       "      <td>528</td>\n",
       "      <td>1134</td>\n",
       "      <td>GTTCTCATACTTCCTTATCAAGTCGCGTGCAGTTTGCACGAGCATT...</td>\n",
       "    </tr>\n",
       "    <tr>\n",
       "      <th>12</th>\n",
       "      <td>GTTCTCATACTTCCTTATCAAGTCGCGTGCAGTTTGCACGAGCATT...</td>\n",
       "      <td>591</td>\n",
       "      <td>1372</td>\n",
       "      <td>GTTCTCATACTTCCTTATCAAGTCGCGTGCAGTTTGCACGAGCATT...</td>\n",
       "    </tr>\n",
       "    <tr>\n",
       "      <th>13</th>\n",
       "      <td>GTTCTCATACTTCCTTATCAAGTCGCGTGCAGTTTGCACGAGCATT...</td>\n",
       "      <td>603</td>\n",
       "      <td>1428</td>\n",
       "      <td>GTTCTCATACTTCCTTATCAAGTCGCGTGCAGTTTGCACGAGCATT...</td>\n",
       "    </tr>\n",
       "    <tr>\n",
       "      <th>14</th>\n",
       "      <td>GTTCTCATACTTCCTTATCAAGTCGCGTGCAGTTTGCACGAGCATT...</td>\n",
       "      <td>1095</td>\n",
       "      <td>1364</td>\n",
       "      <td>GTTCTCATACTTCCTTATCAAGTCGCGTGCAGTTTGCACGAGCATT...</td>\n",
       "    </tr>\n",
       "    <tr>\n",
       "      <th>15</th>\n",
       "      <td>GTTCTCATACTTCCTTATCAAGTCGCGTGCAGTTTGCACGAGCATT...</td>\n",
       "      <td>546</td>\n",
       "      <td>1336</td>\n",
       "      <td>GTTCTCATACTTCCTTATCAAGTCGCGTGCAGTTTGCACGAGCATT...</td>\n",
       "    </tr>\n",
       "    <tr>\n",
       "      <th>16</th>\n",
       "      <td>GTTCTCATACTTCCTTATCAAGTCGCGTGCAGTTTGCACGAGCATT...</td>\n",
       "      <td>558</td>\n",
       "      <td>1380</td>\n",
       "      <td>GTTCTCATACTTCCTTATCAAGTCGCGTGCAGTTTGCACGAGCATT...</td>\n",
       "    </tr>\n",
       "    <tr>\n",
       "      <th>17</th>\n",
       "      <td>GTTCTCATACTTCCTTATCAAGTCGCGTGCAGTTTGCACGAGCATT...</td>\n",
       "      <td>534</td>\n",
       "      <td>1200</td>\n",
       "      <td>GTTCTCATACTTCCTTATCAAGTCGCGTGCAGTTTGCACGAGCATT...</td>\n",
       "    </tr>\n",
       "    <tr>\n",
       "      <th>18</th>\n",
       "      <td>GTTCTCATACTTCCTTATCAAGTCGCGTGCAGTTTGCACGAGCATT...</td>\n",
       "      <td>519</td>\n",
       "      <td>1373</td>\n",
       "      <td>GTTCTCATACTTCCTTATCAAGTCGCGTGCAGTTTGCACGAGCATT...</td>\n",
       "    </tr>\n",
       "    <tr>\n",
       "      <th>19</th>\n",
       "      <td>GTTCTCATACTTCCTTATCAAGTCGCGTGCAGTTTGCACGAGCATT...</td>\n",
       "      <td>516</td>\n",
       "      <td>1331</td>\n",
       "      <td>GTTCTCATACTTCCTTATCAAGTCGCGTGCAGTTTGCACGAGCATT...</td>\n",
       "    </tr>\n",
       "  </tbody>\n",
       "</table>\n",
       "</div>"
      ],
      "text/plain": [
       "                                                  seq  orf_len  length  \\\n",
       "0   GTTCTCATACTTCCTTATCAAGTCGCGTGCAGTTTGCACGAGCATT...      576    1335   \n",
       "1   GTTCTCATACTTCCTTATCAAGTCGCGTGCAGTTTGCACGAGCATT...     1336    1336   \n",
       "2   GTTCTCATACTTCCTTATCAAGTCGCGTGCAGTTTGCACGAGCATT...     1047    1352   \n",
       "3   GTTCTCATACTTCCTTATCAAGTCGCGTGCAGTTTGCACGAGCATT...      690    1305   \n",
       "4   GTTCTCATACTTCCTTATCAAGTCGCGTGCAGTTTGCACGAGCATT...      519    1356   \n",
       "5   GTTCTCATACTTCCTTATCAAGTCGCGTGCAGTTTGCACGAGCATT...      507    1326   \n",
       "6   GTTCTCATACTTCCTTATCAAGTCGCGTGCAGTTTGCACGAGCATT...      579    1043   \n",
       "7   GTTCTCATACTTCCTTATCAAGTCGCGTGCAGTTTGCACGAGCATT...      537    1224   \n",
       "8   GTTCTCATACTTCCTTATCAAGTCGCGTGCAGTTTGCACGAGCATT...      528    1000   \n",
       "9   GTTCTCATACTTCCTTATCAAGTCGCGTGCAGTTTGCACGAGCATT...      696    1395   \n",
       "10  GTTCTCATACTTCCTTATCAAGTCGCGTGCAGTTTGCACGAGCATT...      534    1414   \n",
       "11  GTTCTCATACTTCCTTATCAAGTCGCGTGCAGTTTGCACGAGCATT...      528    1134   \n",
       "12  GTTCTCATACTTCCTTATCAAGTCGCGTGCAGTTTGCACGAGCATT...      591    1372   \n",
       "13  GTTCTCATACTTCCTTATCAAGTCGCGTGCAGTTTGCACGAGCATT...      603    1428   \n",
       "14  GTTCTCATACTTCCTTATCAAGTCGCGTGCAGTTTGCACGAGCATT...     1095    1364   \n",
       "15  GTTCTCATACTTCCTTATCAAGTCGCGTGCAGTTTGCACGAGCATT...      546    1336   \n",
       "16  GTTCTCATACTTCCTTATCAAGTCGCGTGCAGTTTGCACGAGCATT...      558    1380   \n",
       "17  GTTCTCATACTTCCTTATCAAGTCGCGTGCAGTTTGCACGAGCATT...      534    1200   \n",
       "18  GTTCTCATACTTCCTTATCAAGTCGCGTGCAGTTTGCACGAGCATT...      519    1373   \n",
       "19  GTTCTCATACTTCCTTATCAAGTCGCGTGCAGTTTGCACGAGCATT...      516    1331   \n",
       "\n",
       "                                               prompt  \n",
       "0   GTTCTCATACTTCCTTATCAAGTCGCGTGCAGTTTGCACGAGCATT...  \n",
       "1   GTTCTCATACTTCCTTATCAAGTCGCGTGCAGTTTGCACGAGCATT...  \n",
       "2   GTTCTCATACTTCCTTATCAAGTCGCGTGCAGTTTGCACGAGCATT...  \n",
       "3   GTTCTCATACTTCCTTATCAAGTCGCGTGCAGTTTGCACGAGCATT...  \n",
       "4   GTTCTCATACTTCCTTATCAAGTCGCGTGCAGTTTGCACGAGCATT...  \n",
       "5   GTTCTCATACTTCCTTATCAAGTCGCGTGCAGTTTGCACGAGCATT...  \n",
       "6   GTTCTCATACTTCCTTATCAAGTCGCGTGCAGTTTGCACGAGCATT...  \n",
       "7   GTTCTCATACTTCCTTATCAAGTCGCGTGCAGTTTGCACGAGCATT...  \n",
       "8   GTTCTCATACTTCCTTATCAAGTCGCGTGCAGTTTGCACGAGCATT...  \n",
       "9   GTTCTCATACTTCCTTATCAAGTCGCGTGCAGTTTGCACGAGCATT...  \n",
       "10  GTTCTCATACTTCCTTATCAAGTCGCGTGCAGTTTGCACGAGCATT...  \n",
       "11  GTTCTCATACTTCCTTATCAAGTCGCGTGCAGTTTGCACGAGCATT...  \n",
       "12  GTTCTCATACTTCCTTATCAAGTCGCGTGCAGTTTGCACGAGCATT...  \n",
       "13  GTTCTCATACTTCCTTATCAAGTCGCGTGCAGTTTGCACGAGCATT...  \n",
       "14  GTTCTCATACTTCCTTATCAAGTCGCGTGCAGTTTGCACGAGCATT...  \n",
       "15  GTTCTCATACTTCCTTATCAAGTCGCGTGCAGTTTGCACGAGCATT...  \n",
       "16  GTTCTCATACTTCCTTATCAAGTCGCGTGCAGTTTGCACGAGCATT...  \n",
       "17  GTTCTCATACTTCCTTATCAAGTCGCGTGCAGTTTGCACGAGCATT...  \n",
       "18  GTTCTCATACTTCCTTATCAAGTCGCGTGCAGTTTGCACGAGCATT...  \n",
       "19  GTTCTCATACTTCCTTATCAAGTCGCGTGCAGTTTGCACGAGCATT...  "
      ]
     },
     "execution_count": 11,
     "metadata": {},
     "output_type": "execute_result"
    }
   ],
   "source": [
    "stop_codons = ['TAA', 'TAG', 'TGA']\n",
    "def get_orf_len(s):\n",
    "    for i in range(0, len(s), 3):\n",
    "        if s[i:i+3] in stop_codons:\n",
    "            return i+3\n",
    "    return len(s)\n",
    "\n",
    "g_seqs = pd.DataFrame(g_seqs).rename(columns={0:'seq'})\n",
    "g_seqs['orf_len'] = g_seqs['seq'].apply(lambda x: get_orf_len(x))\n",
    "g_seqs['length'] = g_seqs['seq'].apply(lambda x: len(x))\n",
    "g_seqs['prompt'] = g_seqs['seq'].apply(lambda x: x[0:1000])\n",
    "g_seqs"
   ]
  },
  {
   "cell_type": "code",
   "execution_count": 13,
   "id": "d2835d70-f86e-4648-ad4a-3d9e7e0587de",
   "metadata": {
    "tags": []
   },
   "outputs": [
    {
     "data": {
      "text/plain": [
       "['VPKNKHQHIIERRGPEACRVAEPCFQPLLRKTVRSLMARLEVIIDRARLGDVGQQALVPCSDAFDVLGRTAESDLAVSEAALDRQAVILHLAGIGDVDLQRAVGQLLHHLGEFGDIVGMEECGRKRAGNVPLRRVLRHRTSHAKREQTGERQASQNSLHVSSRLVLSSVGHPAHRHREPDSRADALCAADLHRAAMALDDRLHDGQTKARAALLAPTGRDIDLVEPVRDTRQMFRRNALAIVVDRDQDVFRIRTQRHDHMAAGFAIGDRVVDQIGEDLG',\n",
       " 'VIPHKLTLAMASERPSSMAALNTPVWKPKPRAEDDEIRKVFPDRSGLAKRRPSMSASVGMLSFSASAATSSPPNRLAMTVPVYLIWPEAWMAWMVLTLPGEPSWLTGSKVAPGLTAAKASRMPSAHWLPQASAGPLMVAMVRLPSAMAGTASAPDSSAVAARVFRALRRVMEISLLGCQITR',\n",
       " 'VPLWITRLDAFEIVHRLDRTVSQVDQPIVVGRDEQNFDVFLLGRNVFAIGLEILVDQRQHLRNVGEIGQPIGQVHGADVGDAFQRAIDGSDAQFTAEHPFALDRLAAEDAHVDAALGPFVHAFRKGLEGFVVHAALGITVSETQGDRLLGGKGGAGDGECQRRAREPRHPFHENLPVRLCSCLAERWFSDQTSGGSSS']"
      ]
     },
     "execution_count": 13,
     "metadata": {},
     "output_type": "execute_result"
    }
   ],
   "source": [
    "from Bio.Seq import translate\n",
    "# remove prompts\n",
    "fasta = [translate(fa, to_stop=True)[166:] for fa in g_seqs.loc[g_seqs['orf_len']>950, 'seq'] ]\n",
    "fasta"
   ]
  },
  {
   "cell_type": "code",
   "execution_count": 14,
   "id": "4357e92b-d141-4baf-98c1-48f856d95519",
   "metadata": {
    "tags": []
   },
   "outputs": [
    {
     "data": {
      "text/plain": [
       "['VLILPYQVACSLHEHFAVKTALVGVSDPLLDQNLSGCLHLVKRSTGQLVEFSTGFHRQLPCRRLESVPQLASQRCQRQAGIVVNDLLVAVRQRLVLGLVHEEQERGGVKAAITRRHGVRLGQFMKLERGHDFPRNDHSVNHALRQGRSHFGNRHSYRGRAQGVKHLVPKNKHQHIIERRGPEACRVAEPCFQPLLRKTVRSLMARLEVIIDRARLGDVGQQALVPCSDAFDVLGRTAESDLAVSEAALDRQAVILHLAGIGDVDLQRAVGQLLHHLGEFGDIVGMEECGRKRAGNVPLRRVLRHRTSHAKREQTGERQASQNSLHVSSRLVLSSVGHPAHRHREPDSRADALCAADLHRAAMALDDRLHDGQTKARAALLAPTGRDIDLVEPVRDTRQMFRRNALAIVVDRDQDVFRIRTQRHDHMAAGFAIGDRVVDQIGEDLG',\n",
       " 'VLILPYQVACSLHEHFAVKTALVGVSDPLLDQNLSGCLHLVKRSTGQLVEFSTGFHRQLPCRRLESVPQLASQRCQRQAGIVVNDLLVAVRQRLVLGLVHEEQERGGVKAAITRRHGVRLGQFMKLERGHDFPRNDHSVNHALRQGRSHFGNRHSYRGRAQGVKHLVIPHKLTLAMASERPSSMAALNTPVWKPKPRAEDDEIRKVFPDRSGLAKRRPSMSASVGMLSFSASAATSSPPNRLAMTVPVYLIWPEAWMAWMVLTLPGEPSWLTGSKVAPGLTAAKASRMPSAHWLPQASAGPLMVAMVRLPSAMAGTASAPDSSAVAARVFRALRRVMEISLLGCQITR',\n",
       " 'VLILPYQVACSLHEHFAVKTALVGVSDPLLDQNLSGCLHLVKRSTGQLVEFSTGFHRQLPCRRLESVPQLASQRCQRQAGIVVNDLLVAVRQRLVLGLVHEEQERGGVKAAITRRHGVRLGQFMKLERGHDFPRNDHSVNHALRQGRSHFGNRHSYRGRAQGVKHLVPLWITRLDAFEIVHRLDRTVSQVDQPIVVGRDEQNFDVFLLGRNVFAIGLEILVDQRQHLRNVGEIGQPIGQVHGADVGDAFQRAIDGSDAQFTAEHPFALDRLAAEDAHVDAALGPFVHAFRKGLEGFVVHAALGITVSETQGDRLLGGKGGAGDGECQRRAREPRHPFHENLPVRLCSCLAERWFSDQTSGGSSS']"
      ]
     },
     "execution_count": 14,
     "metadata": {},
     "output_type": "execute_result"
    }
   ],
   "source": [
    "fasta = [translate(fa, to_stop=True) for fa in g_seqs.loc[g_seqs['orf_len']>950, 'seq'] ]\n",
    "fasta"
   ]
  },
  {
   "cell_type": "code",
   "execution_count": null,
   "id": "49b1bf34-6f14-41bf-93c6-be0f755a7b6a",
   "metadata": {},
   "outputs": [],
   "source": []
  },
  {
   "cell_type": "markdown",
   "id": "18347bff-8084-4532-b8cc-c75a27ab2637",
   "metadata": {
    "jp-MarkdownHeadingCollapsed": true,
    "tags": []
   },
   "source": [
    "## 3.Mutation scanning"
   ]
  },
  {
   "cell_type": "markdown",
   "id": "9df24d0a-e8c9-47ca-a3cf-0b754eeb545b",
   "metadata": {
    "jp-MarkdownHeadingCollapsed": true,
    "tags": []
   },
   "source": [
    "### Premature Stop"
   ]
  },
  {
   "cell_type": "code",
   "execution_count": 120,
   "id": "0c20e76a-e789-4b9e-a33f-313691b2a709",
   "metadata": {
    "tags": []
   },
   "outputs": [],
   "source": [
    "starting_seq = list(g_seqs.loc[g_seqs['ori_len'] == np.median(g_seqs['ori_len']), 'ori_seq'])[0]"
   ]
  },
  {
   "cell_type": "code",
   "execution_count": 121,
   "id": "95f92adf-e464-4e27-9ee4-81e4f6cccbf7",
   "metadata": {
    "tags": []
   },
   "outputs": [
    {
     "data": {
      "text/plain": [
       "'ATGAGCATAGAAGTCAAACAATTAACAGTAAAAAATTTCATGAGTGTTGGCAACCAAACACAGGCTGTAACATTTAATCAAGAAAATTTAACATTAGTATTAGGTGAAAATCTAGATCAAGGTGGTGATGATTCCGGTTCAAGAAATGGCACTGGAAAAACAACTATCGTCAATGCATTGAGTTTTGCATTATATGGAATAGCACTAACTAATATTAAAAAAGATAATCTTATAAACAAGATTAACAATAAAAATATGTTAGTTACACTAACATTTTCAAAAGATGGAGTTGATTATAAAATTGAAAGAGGTAGAAAACCTGCTATTTTTAATTTTATAAATCTTGCAGATCCATCCAAAGTTGAAGAAAGTGATAGCCAAGGTGAATCAAAAGATACTCAAAAAGATATTGAAACATTATTTGGTATGAGTCATAATATGTTCAAACATATAGTAGCATTGAATACTTATACTGACCCATTCTTATCAATGAGGGCGGGTGATCAGCGTGAAATAATTGAGCAATTACTTGGTATCACTTTGCTAAGTGAAAAAGCAGAAATTCTTAGTAAAGAAATTAAGCAAACAAAAGAGTTGATTTTTCAAGAAAATGCAAATATTGAAGCAATGAAAAAATCCAATGAAAAAATTAAACAAAGTATTGATTCATTAACAATGAGTCAACGTTCTTGGAATTTGAAACATAATAATGAACTTCAAAAACTTGGTGAATCTATTGTAAATTTGGAAGGATTAGATTTGACTGCAGAATTATTAGCGCATAATGAATTAAAATCATACTATGAACTTTCTACAAAAATTAGCAGTTTAAATAAAGAAAAAGCAACCTTAGAAGCAGCAATTGAACAAGCAAATAAAAATCATGATAATTATATTAATCATGTAGCAGTTGTAGAATCAAAAATATGCCCAGCATGTGCTCAAGAACTACAAGATCATACACATGAAGATATGTTAGAATCTAGTAAAAATACAGTTGAAGAATCACAACAATATCTTGATAAAGTTTCAAATGAATATGAAAGTGTTATTAGTCAATTATGGAAGTTAGGTGATTTACCTGAAAAACCATCAACGTACTATCCAACATTAGAAGAAGCATTAACACATCGTAATACATTGATTACTTTACATGCACAATTAACTAGTAAATCTAATGAAATAAATCCATATGATGACCAAATTATTGAATTAAAAAGTGAAGCATTACAACCAATAAATTGGAGTATAATAAATGACTATACTTCATTAAAAGATCATCAAGAATTTTTGTTAAAATTATTAACAAATAAAGATAGTTTTATACGTAAAAAAATAATTGACCAAAACCTAGCATACTTAAATAATAGACTAACTTATTATATTGATAAAATGGGTTTACCACATACAGTTATATTTCAAAATGATTTAACTGTAGAAATTATGCAACTAGGACAAGAATTGGATTTTTTTAATCTCAGTCGCGGTGAGATGACTAGAGTTATTCTCAGTTTAAGTTTTGCATTTCGTGATGTATGGGAAAGTTTATATCAAGGTATAAATGTATTATTTATTGATGAATTAGTTGACAACGGCTTAGATGCAAGTGGTGTTGAGAATGCGTTAAGTATTATGAAAAATATTGCACGAGAACGTAATAAAAATATCTTTTTAATTAGTCATAAAGACGAATTAGCGGGAAGAGTTAATAATATACTTAAAGTAGTTAAAGAAAATGGTTTTACTCAATATGAATATCCAGAATATAATGAAAATTGA'"
      ]
     },
     "execution_count": 121,
     "metadata": {},
     "output_type": "execute_result"
    }
   ],
   "source": [
    "starting_seq"
   ]
  },
  {
   "cell_type": "code",
   "execution_count": 122,
   "id": "43d098a1-86d3-458d-a33f-789039ae6df0",
   "metadata": {
    "tags": []
   },
   "outputs": [],
   "source": [
    "def premature_stop(s, stop_codon = 'TAA'):\n",
    "    \"\"\" sequentially change every codon to stop \"\"\"\n",
    "    mutations = []\n",
    "    for i in range(0, len(s)-3, 3):\n",
    "        mutations.append(s[0:i] + stop_codon + s[i+3:])\n",
    "    return mutations"
   ]
  },
  {
   "cell_type": "code",
   "execution_count": 123,
   "id": "a2b89038-e3bb-4d7a-8e0f-dd4721bf191d",
   "metadata": {
    "tags": []
   },
   "outputs": [],
   "source": [
    "mutations = premature_stop(starting_seq)"
   ]
  },
  {
   "cell_type": "code",
   "execution_count": 124,
   "id": "a3a1bf89-609f-4b81-983f-766eae49f53c",
   "metadata": {
    "tags": []
   },
   "outputs": [
    {
     "data": {
      "text/plain": [
       "592"
      ]
     },
     "execution_count": 124,
     "metadata": {},
     "output_type": "execute_result"
    }
   ],
   "source": [
    "len(mutations)"
   ]
  },
  {
   "cell_type": "code",
   "execution_count": 125,
   "id": "2aec8bc7-5aa1-4c62-b182-1cf14dcfd13f",
   "metadata": {
    "tags": []
   },
   "outputs": [
    {
     "name": "stdout",
     "output_type": "stream",
     "text": [
      "Getting perplexity for 592 sequences\n",
      "Model directory: /global/homes/z/zhwang/RD_cfs/projects/LLMs/genomeocean/MOE_DNA/mistral_4B_1024_add1/checkpoint-55000\n",
      "Using flast_attn 2\n",
      "flash_attn_func supports window_size: True\n"
     ]
    },
    {
     "data": {
      "application/vnd.jupyter.widget-view+json": {
       "model_id": "d1748dfc1125465280f284e25746a4cb",
       "version_major": 2,
       "version_minor": 0
      },
      "text/plain": [
       "Loading checkpoint shards:   0%|          | 0/2 [00:00<?, ?it/s]"
      ]
     },
     "metadata": {},
     "output_type": "display_data"
    },
    {
     "name": "stderr",
     "output_type": "stream",
     "text": [
      "592it [00:18, 31.43it/s]\n"
     ]
    },
    {
     "data": {
      "text/plain": [
       "array([[<Axes: title={'center': '0'}>]], dtype=object)"
      ]
     },
     "execution_count": 125,
     "metadata": {},
     "output_type": "execute_result"
    },
    {
     "data": {
      "image/png": "[encoded data removed]",
      "text/plain": [
       "<Figure size 640x480 with 1 Axes>"
      ]
     },
     "metadata": {},
     "output_type": "display_data"
    }
   ],
   "source": [
    "scores = compute_perplexity(mutations, model_dir=model_dir)\n",
    "pd.DataFrame(scores).hist()"
   ]
  },
  {
   "cell_type": "code",
   "execution_count": 126,
   "id": "833b6c6a-671a-4a35-9bfe-580075cd4216",
   "metadata": {
    "tags": []
   },
   "outputs": [],
   "source": [
    "import matplotlib.pyplot as plt"
   ]
  },
  {
   "cell_type": "code",
   "execution_count": 127,
   "id": "f2e16c48-474b-4100-9f2a-816ac52d0734",
   "metadata": {
    "tags": []
   },
   "outputs": [
    {
     "data": {
      "text/plain": [
       "[<matplotlib.lines.Line2D at 0x7ff1e40792b0>]"
      ]
     },
     "execution_count": 127,
     "metadata": {},
     "output_type": "execute_result"
    },
    {
     "data": {
      "image/png": "[encoded data removed]",
      "text/plain": [
       "<Figure size 640x480 with 1 Axes>"
      ]
     },
     "metadata": {},
     "output_type": "display_data"
    }
   ],
   "source": [
    "plt.plot(scores)"
   ]
  },
  {
   "cell_type": "code",
   "execution_count": null,
   "id": "359f8aed-fc72-4f8f-afae-ee44421e83b0",
   "metadata": {},
   "outputs": [],
   "source": []
  },
  {
   "cell_type": "code",
   "execution_count": null,
   "id": "55f2dab5-b139-49e8-a5dd-63545686cca0",
   "metadata": {},
   "outputs": [],
   "source": []
  },
  {
   "cell_type": "code",
   "execution_count": null,
   "id": "6450b48a-4960-4b51-b04f-9cc173d0219f",
   "metadata": {},
   "outputs": [],
   "source": [
    "%%bash\n",
    "# check if generated sequences are in training\n",
    "for i in `ls /global/homes/z/zhwang/RD_cfs/zhwang/metagenomic_datasets/*.fa`;do j=\"$(basename -- $i)\"; cmd=\"/global/homes/z/zhwang/bin/minimap2 ${i} query.fa\"; $cmd > query.sam; done; "
   ]
  },
  {
   "cell_type": "markdown",
   "id": "7e567fe3-eeea-49e8-ace9-72fe2647fed2",
   "metadata": {
    "jp-MarkdownHeadingCollapsed": true,
    "tags": []
   },
   "source": [
    "### synonymous vs nonsynonymous mutations"
   ]
  },
  {
   "cell_type": "code",
   "execution_count": 42,
   "id": "caabc3d2-4b8c-44f0-8fbe-2020215c9ff8",
   "metadata": {
    "tags": []
   },
   "outputs": [],
   "source": [
    "import random\n",
    "from Bio.Seq import Seq\n",
    "from Bio.Data import CodonTable\n",
    "\n",
    "def introduce_mutations(orf_sequence, mutation_percentage=5, mutation_type='synonymous', codontable=11):\n",
    "    # 11. The Bacterial, Archaeal and Plant Plastid Code (transl_table=11)\n",
    "    codon_table = CodonTable.unambiguous_dna_by_id[codontable]\n",
    "    codons = [orf_sequence[i:i+3] for i in range(0, len(orf_sequence), 3)]\n",
    "    \n",
    "    num_codons_to_mutate = int(len(codons) * mutation_percentage / 100)\n",
    "    codons_to_mutate = random.sample(range(len(codons)), num_codons_to_mutate)\n",
    "    for index in codons_to_mutate:\n",
    "        original_codon = codons[index]\n",
    "        amino_acid = codon_table.forward_table.get(original_codon, None)\n",
    "        if amino_acid:\n",
    "            if mutation_type=='synonymous':\n",
    "                candidate_codons = [codon for codon, aa in codon_table.forward_table.items() if aa == amino_acid and codon != original_codon]\n",
    "            else:\n",
    "                candidate_codons = [codon for codon, aa in codon_table.forward_table.items() if aa != amino_acid]\n",
    "            if candidate_codons:\n",
    "                codons[index] = random.choice(candidate_codons)\n",
    "    \n",
    "    mutated_sequence = ''.join(codons)\n",
    "    return mutated_sequence\n"
   ]
  },
  {
   "cell_type": "code",
   "execution_count": 32,
   "id": "c69f5ca9-e960-4b98-916c-6cf8cd6f1365",
   "metadata": {
    "tags": []
   },
   "outputs": [],
   "source": [
    "selected_seq = \"\"\"ATGGCAGTAAAACTAACAATATGCGATGAAGTAAATATTAAATTTTCTGGATTATCGCTTGATGCAAGAA\n",
    "AAAAATTAGCAGCAACTTTTAAATATGAAATACCATATGCAAAGTACCAACCAGCATATCGATTAGGTCG\n",
    "TTGGGATGGTACAGTAAGTTTATTTGGTATAGGTGGCTCTGGATATTTAAGTCAGCTTGAATCTATTTTA\n",
    "GATATCTTATCTAAGATGGGTATTCAGTTAGATGAAGTAGATGACCAACGCAACCCAATTAATTTAACAT\n",
    "TTGATGATGTCACCGAAACATATTGGGCAGATCAAGGTAAGGTATGGCCACCTGGGCATCCAACTGAAGG\n",
    "CGCCCCAATTATGTTGCGTGATTACCAGGTAGCTGCCATTAATAAGTTTTTAAAAAATCCGCAAAGTTTA\n",
    "CAAGAAATTGCAACAGGCGCTGGTAAATGTCAACCATTGAATAGTCTAGTATTAACGTCTACAGGCTGGA\n",
    "AAACTATGGGTGATATTAAAATAGGAGATTTGGTGGTTACCCCAACTGGTAAATTATCTAAGGTAATAAG\n",
    "TGTATTTGAACCTGGTGTTAAAGATATATACCAATTAACATTTTCTGATGGAAGAACTGCTAAATCATGT\n",
    "AAAGATCATTTATGGAGAGTTCATAATATTGATTGGAAAACTAATTCTGGACATTGGAGAAATATATCTA\n",
    "CTGAAGAATTGATTAAATTAAAATCAAATACAAAACGTTCTATTGGCATACCATTAGTTTCTATGAAAAA\n",
    "TAATGATACAGACGTTGACTTACCTATGGATCCATGGTTATTAGGATTTTTACTAGGTGATGGAAGTTTT\n",
    "AGAAATGGTCGTATTAATTTTAGTACATCAGATTCTGAACTTGTTAACAAGGTTGAATCAAAATTAAATA\n",
    "ATAGATATAAAGTAAAGCATTTAGGAAAATATGATTACACCATCCAATTTGCAGATTTAAATGACATGAG\n",
    "AGCCAGTCATTCAGAATTGATGAAAATAAAAAGTAGAAATAAGAATGGTCATATAATAAATAATAACCAT\n",
    "ACTTCATTAAATGAATATAGACAAATTATTAATGAGTTAGGATTAGGTGAAACATACAGTCACAATAAAT\n",
    "TTGTCCCAAAAATGTATTTTAATTCCAGCTTTAATCAGAGAATAGAATTAATTAAAGGATTAGTTGATAG\n",
    "TGACGGAACTGTTGACACCTCTAGTGTAAGTTTTACTTCAGTAAGTAAACAATTAGCGTTAGATTTTCAA\n",
    "CAATTAATATGGAGTGTTGGTGGGATAGCAAAAATCGCCACTAAAGAAAAGAATACATATAAGTATAATA\n",
    "ACGATATAAAATTTGGTAAAACGTCATATCGTGTATCAACAAAATATACTACTCCTTGGGAATTGATATC\n",
    "ATTACAACGAAAAATTGATAAAACAAATTTGTTTTATCAGTATGGACCAACATTAAAGTTAAACATAGAG\n",
    "CATATTGAAAAAATTGGTTCAGAGGATGTCAAATGTATTCTTATAGATGACCCAGACCATTTATATATTA\n",
    "CTGACAATTACATTGTTACTCATAATACCATTACTACTGCTACGTTATCCCAAATATGTGAAAAATTTGG\n",
    "TAGGACAATAATCATTGTTCCAAATAAATCATTGGTTGAACAAACTGAAGAAGATTTTATTAACTGTGGA\n",
    "TTAGATGTTGGTGTGTACTATGGTGATAGAAAAGATTTATATAAAACACATACTATTTGTACATGGCAAA\n",
    "GTCTTAATATTTTAGATAAGAAAAGTAAAAATCACGAACACGATATTATATCATTGGCTGAGTTCTTAGA\n",
    "TAATGTAAAAGCAGTTATAGTTGATGAATGTTTTGATGGTAATGCCAAGGTATTATCTGCAGATGGGTCA\n",
    "TATGTCCCGATAAAAGATATAAAATCTGGAGATAAAATCATTAATTATTCAGAAGAAACAAAAGCGTTTA\n",
    "AAGTTGATACAGTTATTAACCAACATAAAAATCTTAACAAATCTAATAATGAAAAAATGTATGAGTTAGA\n",
    "ATTTGACAATGGTAGTATTATTAAAGTAACCGGAAATCACAAATTCTTAACGACTATTGGTTGGGTGCGT\n",
    "GCAGATGAGCTTACAGATATGCATTATATTATTAATAAAACATAA\"\"\"\n",
    "selected_seq = selected_seq.replace('\\n', '')[:-3] # remove stop"
   ]
  },
  {
   "cell_type": "code",
   "execution_count": 47,
   "id": "71ed2e12-bb03-4b61-a3d9-c2748db94abb",
   "metadata": {
    "tags": []
   },
   "outputs": [
    {
     "name": "stdout",
     "output_type": "stream",
     "text": [
      "Getting perplexity for 11 sequences\n",
      "Model directory: /global/homes/z/zhwang/RD_cfs/projects/LLMs/genomeocean/MOE_DNA/mistral_4B_1024_add1/checkpoint-55000\n",
      "Using flast_attn 2\n",
      "flash_attn_func supports window_size: True\n"
     ]
    },
    {
     "data": {
      "application/vnd.jupyter.widget-view+json": {
       "model_id": "c35085e4c10d477b930fdeadc59d257a",
       "version_major": 2,
       "version_minor": 0
      },
      "text/plain": [
       "Loading checkpoint shards:   0%|          | 0/2 [00:00<?, ?it/s]"
      ]
     },
     "metadata": {},
     "output_type": "display_data"
    },
    {
     "name": "stderr",
     "output_type": "stream",
     "text": [
      "11it [00:00, 27.90it/s]\n"
     ]
    },
    {
     "data": {
      "text/plain": [
       "array([5.30322313, 5.62305784, 5.46152782, 5.55770016, 5.57950687,\n",
       "       5.51888275, 5.57065201, 5.62492228, 5.70342779, 5.6183486 ,\n",
       "       5.45914364])"
      ]
     },
     "execution_count": 47,
     "metadata": {},
     "output_type": "execute_result"
    }
   ],
   "source": [
    "syn_mutations = [selected_seq]\n",
    "for i in range(10):\n",
    "    syn_mutations.append(introduce_mutations(selected_seq,  mutation_type='synonymous', mutation_percentage=20)) \n",
    "                         \n",
    "scores = compute_perplexity(syn_mutations, model_dir=model_dir)\n",
    "scores"
   ]
  },
  {
   "cell_type": "code",
   "execution_count": 48,
   "id": "702cf5b3-bade-484c-91ff-c355ac91cc63",
   "metadata": {
    "tags": []
   },
   "outputs": [
    {
     "name": "stdout",
     "output_type": "stream",
     "text": [
      "Getting perplexity for 11 sequences\n",
      "Model directory: /global/homes/z/zhwang/RD_cfs/projects/LLMs/genomeocean/MOE_DNA/mistral_4B_1024_add1/checkpoint-55000\n",
      "Using flast_attn 2\n",
      "flash_attn_func supports window_size: True\n"
     ]
    },
    {
     "data": {
      "application/vnd.jupyter.widget-view+json": {
       "model_id": "404d1c06e4e7489ebce2021b489c9716",
       "version_major": 2,
       "version_minor": 0
      },
      "text/plain": [
       "Loading checkpoint shards:   0%|          | 0/2 [00:00<?, ?it/s]"
      ]
     },
     "metadata": {},
     "output_type": "display_data"
    },
    {
     "name": "stderr",
     "output_type": "stream",
     "text": [
      "11it [00:00, 28.94it/s]\n"
     ]
    },
    {
     "data": {
      "text/plain": [
       "array([5.30322313, 5.62305784, 5.46152782, 5.55770016, 5.57950687,\n",
       "       5.51888275, 5.57065201, 5.62492228, 5.70342779, 5.6183486 ,\n",
       "       5.45914364])"
      ]
     },
     "execution_count": 48,
     "metadata": {},
     "output_type": "execute_result"
    }
   ],
   "source": [
    "nonsyn_mutations = [selected_seq]\n",
    "for i in range(10):\n",
    "    nonsyn_mutations.append(introduce_mutations(selected_seq,  mutation_type='nonsynonymous', mutation_percentage=20)) \n",
    "                         \n",
    "scores = compute_perplexity(syn_mutations, model_dir=model_dir)\n",
    "scores"
   ]
  },
  {
   "cell_type": "code",
   "execution_count": null,
   "id": "ab337f6a-0ce5-4915-a6a9-6bd10095577d",
   "metadata": {},
   "outputs": [],
   "source": []
  }
 ],
 "metadata": {
  "kernelspec": {
   "display_name": "pytorch-2.0.1",
   "language": "python",
   "name": "pytorch-2.0.1"
  },
  "language_info": {
   "codemirror_mode": {
    "name": "ipython",
    "version": 3
   },
   "file_extension": ".py",
   "mimetype": "text/x-python",
   "name": "python",
   "nbconvert_exporter": "python",
   "pygments_lexer": "ipython3",
   "version": "3.9.16"
  }
 },
 "nbformat": 4,
 "nbformat_minor": 5
}
