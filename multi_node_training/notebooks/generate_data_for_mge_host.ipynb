{
 "cells": [
  {
   "cell_type": "code",
   "execution_count": 1,
   "id": "e4afcd79-cd3d-4e4c-be5a-a972deedb4a3",
   "metadata": {
    "tags": []
   },
   "outputs": [],
   "source": [
    "%%capture\n",
    "!pip uninstall -y transformers\n",
    "!pip install git+https://github.com/huggingface/transformers\n",
    "!pip install biopython "
   ]
  },
  {
   "cell_type": "markdown",
   "id": "6fbdc226-7c3e-4255-803c-15ecd07f8f5f",
   "metadata": {
    "tags": []
   },
   "source": [
    "# plasmids"
   ]
  },
  {
   "cell_type": "code",
   "execution_count": 1,
   "id": "da2ae8c9-2a86-4d2c-85dc-63c2e47f0c5f",
   "metadata": {
    "tags": []
   },
   "outputs": [],
   "source": [
    "import pandas as pd\n",
    "from Bio import SeqIO"
   ]
  },
  {
   "cell_type": "code",
   "execution_count": 2,
   "id": "45e5768d-1aeb-42d1-a229-b9027f3b71a2",
   "metadata": {
    "tags": []
   },
   "outputs": [],
   "source": [
    "plsdb = pd.read_csv('/global/cfs/cdirs/jgirnd/projects/LLMs/mge/plsdb_metadata_Arvind_ArgonneLab.csv.gz', usecols=['ACC_NUCCORE', 'NCBI_ids'])"
   ]
  },
  {
   "cell_type": "code",
   "execution_count": 3,
   "id": "46554697-e696-4868-9f39-b4f44b4bde27",
   "metadata": {
    "tags": []
   },
   "outputs": [],
   "source": [
    "# remove those without host\n",
    "plsdb = plsdb.dropna()\n",
    "plsdb = plsdb.drop_duplicates()"
   ]
  },
  {
   "cell_type": "code",
   "execution_count": 4,
   "id": "d538909c-d744-4d3d-9112-84cc5b6d925c",
   "metadata": {
    "tags": []
   },
   "outputs": [
    {
     "data": {
      "text/plain": [
       "(1410, 2)"
      ]
     },
     "execution_count": 4,
     "metadata": {},
     "output_type": "execute_result"
    }
   ],
   "source": [
    "plsdb.shape"
   ]
  },
  {
   "cell_type": "code",
   "execution_count": 5,
   "id": "83201aae-a2da-4aaa-81a9-521c64ff5226",
   "metadata": {
    "tags": []
   },
   "outputs": [
    {
     "data": {
      "text/html": [
       "<div>\n",
       "<style scoped>\n",
       "    .dataframe tbody tr th:only-of-type {\n",
       "        vertical-align: middle;\n",
       "    }\n",
       "\n",
       "    .dataframe tbody tr th {\n",
       "        vertical-align: top;\n",
       "    }\n",
       "\n",
       "    .dataframe thead th {\n",
       "        text-align: right;\n",
       "    }\n",
       "</style>\n",
       "<table border=\"1\" class=\"dataframe\">\n",
       "  <thead>\n",
       "    <tr style=\"text-align: right;\">\n",
       "      <th></th>\n",
       "      <th>ACC_NUCCORE</th>\n",
       "      <th>NCBI_ids</th>\n",
       "    </tr>\n",
       "  </thead>\n",
       "  <tbody>\n",
       "    <tr>\n",
       "      <th>1704</th>\n",
       "      <td>NZ_AP014570.1</td>\n",
       "      <td>GCF_000828915.1</td>\n",
       "    </tr>\n",
       "    <tr>\n",
       "      <th>1708</th>\n",
       "      <td>NZ_AP014682.1</td>\n",
       "      <td>GCF_000829395.1</td>\n",
       "    </tr>\n",
       "    <tr>\n",
       "      <th>1709</th>\n",
       "      <td>NZ_AP014681.1</td>\n",
       "      <td>GCF_000829395.1</td>\n",
       "    </tr>\n",
       "    <tr>\n",
       "      <th>1712</th>\n",
       "      <td>NZ_AP018444.1</td>\n",
       "      <td>GCF_000534935.2</td>\n",
       "    </tr>\n",
       "    <tr>\n",
       "      <th>1713</th>\n",
       "      <td>NZ_AP018444.1</td>\n",
       "      <td>GCF_000534935.1</td>\n",
       "    </tr>\n",
       "  </tbody>\n",
       "</table>\n",
       "</div>"
      ],
      "text/plain": [
       "        ACC_NUCCORE         NCBI_ids\n",
       "1704  NZ_AP014570.1  GCF_000828915.1\n",
       "1708  NZ_AP014682.1  GCF_000829395.1\n",
       "1709  NZ_AP014681.1  GCF_000829395.1\n",
       "1712  NZ_AP018444.1  GCF_000534935.2\n",
       "1713  NZ_AP018444.1  GCF_000534935.1"
      ]
     },
     "execution_count": 5,
     "metadata": {},
     "output_type": "execute_result"
    }
   ],
   "source": [
    "plsdb.head()"
   ]
  },
  {
   "cell_type": "code",
   "execution_count": 6,
   "id": "41be7411-c660-49aa-9335-d5adefa6f50e",
   "metadata": {
    "tags": []
   },
   "outputs": [
    {
     "data": {
      "text/plain": [
       "1346"
      ]
     },
     "execution_count": 6,
     "metadata": {},
     "output_type": "execute_result"
    }
   ],
   "source": [
    "len(set(plsdb['ACC_NUCCORE']))"
   ]
  },
  {
   "cell_type": "code",
   "execution_count": 7,
   "id": "ae4d8b49-7dab-4d6e-b4b4-1c8f65d17e69",
   "metadata": {
    "tags": []
   },
   "outputs": [
    {
     "data": {
      "text/plain": [
       "534"
      ]
     },
     "execution_count": 7,
     "metadata": {},
     "output_type": "execute_result"
    }
   ],
   "source": [
    "len(set(plsdb['NCBI_ids']))"
   ]
  },
  {
   "cell_type": "markdown",
   "id": "6e15ff8d-35c1-46f0-9b6c-5508ec23c42f",
   "metadata": {},
   "source": [
    "# Split Train / Validation / Test\n",
    "\n",
    "In validation: we evaluate on unknown relationships between known mge/host\n",
    "\n",
    "In test: we evaluation on unknown relationships between unknown mge/host"
   ]
  },
  {
   "cell_type": "code",
   "execution_count": 8,
   "id": "4753dd7b-8fd0-44e0-9e8b-33a5688f81d5",
   "metadata": {
    "tags": []
   },
   "outputs": [],
   "source": [
    "import random\n",
    "\n",
    "all_hosts = list(set(plsdb['NCBI_ids']))\n",
    "random.shuffle(all_hosts)\n",
    "hosts_test = all_hosts[:60]\n",
    "hosts_train_val = all_hosts[60:]\n"
   ]
  },
  {
   "cell_type": "code",
   "execution_count": 9,
   "id": "d2c6758f-d791-4042-9bd7-9ff6daeac618",
   "metadata": {
    "tags": []
   },
   "outputs": [],
   "source": [
    "pairs_test = plsdb[plsdb['NCBI_ids'].isin(hosts_test)]\n",
    "pairs_train_val = plsdb[~plsdb['NCBI_ids'].isin(hosts_test)]\n",
    "\n",
    "data_test = []\n",
    "data_val = []\n",
    "data_train = []\n",
    "\n",
    "seen_mge = set(pairs_train_val['ACC_NUCCORE'])\n",
    "for index, row in pairs_test.iterrows():\n",
    "    if row['ACC_NUCCORE'] in seen_mge:\n",
    "        data_val.append((row['ACC_NUCCORE'], row['NCBI_ids']))\n",
    "    else:\n",
    "        data_test.append((row['ACC_NUCCORE'], row['NCBI_ids']))\n"
   ]
  },
  {
   "cell_type": "code",
   "execution_count": 10,
   "id": "185bd05c-a87c-43a7-9152-d9bd728c25d6",
   "metadata": {
    "tags": []
   },
   "outputs": [
    {
     "name": "stdout",
     "output_type": "stream",
     "text": [
      "Get 1124 for training, 143 for validation, and 143 for test\n",
      "The overlap between test and training is 0\n"
     ]
    }
   ],
   "source": [
    "all_train_val = []\n",
    "for index, row in pairs_train_val.iterrows():\n",
    "    all_train_val.append((row['ACC_NUCCORE'], row['NCBI_ids']))\n",
    "    \n",
    "random.shuffle(all_train_val)\n",
    "num_diff = len(data_test) - len(data_val)\n",
    "data_val.extend(all_train_val[:num_diff])\n",
    "data_train.extend(all_train_val[num_diff:])\n",
    "\n",
    "print(f\"Get {len(data_train)} for training, {len(data_val)} for validation, and {len(data_test)} for test\")\n",
    "test_mge = set([p[0] for p in data_test])\n",
    "train_val_mge = set([p[0] for p in data_val] + [p[0] for p in data_train])\n",
    "print(f\"The overlap between test and training is {len(test_mge.intersection(train_val_mge))}\")"
   ]
  },
  {
   "cell_type": "markdown",
   "id": "fe39be52-5eb2-45fd-ad94-000d0f381cdc",
   "metadata": {},
   "source": [
    "# Get MGE sequences"
   ]
  },
  {
   "cell_type": "code",
   "execution_count": 11,
   "id": "e44a554f-9d3f-4963-9be6-e8e914cd5e29",
   "metadata": {
    "tags": []
   },
   "outputs": [
    {
     "data": {
      "text/plain": [
       "1346"
      ]
     },
     "execution_count": 11,
     "metadata": {},
     "output_type": "execute_result"
    }
   ],
   "source": [
    "import gzip\n",
    "\n",
    "plasmids = []\n",
    "with gzip.open('/global/cfs/cdirs/jgirnd/projects/LLMs/mge/plsdb.fna.gz', 'rt') as FASTA:\n",
    "    for p in SeqIO.parse(FASTA, format='fasta'):\n",
    "        if p.id in plsdb['ACC_NUCCORE'].values:\n",
    "            plasmids.append(p)\n",
    "            \n",
    "len(plasmids)      "
   ]
  },
  {
   "cell_type": "code",
   "execution_count": 12,
   "id": "46de923b-c40b-4ad8-b220-68a3da6ab0a9",
   "metadata": {
    "tags": []
   },
   "outputs": [],
   "source": [
    "mgeid2seq = {item.id: str(item.seq) for item in plasmids}"
   ]
  },
  {
   "cell_type": "markdown",
   "id": "681d7333-b566-4635-be11-e999fa5ac4bc",
   "metadata": {},
   "source": [
    "# Get Host sequences"
   ]
  },
  {
   "cell_type": "code",
   "execution_count": 13,
   "id": "c67713e8-c905-47d3-af3a-e1e20900f718",
   "metadata": {
    "tags": []
   },
   "outputs": [],
   "source": [
    "import os\n",
    "MAX_LEN = 10000\n",
    "path = '/global/cfs/cdirs/jgirnd/projects/LLMs/mge/bacteria_hosts'\n",
    "genome_list = os.listdir(path)"
   ]
  },
  {
   "cell_type": "code",
   "execution_count": 17,
   "id": "97a39d1a-da8a-44eb-b390-c4f77059c82b",
   "metadata": {
    "tags": []
   },
   "outputs": [],
   "source": [
    "def generate_subsequences(sequence, sub_length=10000, num_subsequences=800):\n",
    "    total_subsequences = len(sequence) // sub_length\n",
    "    \n",
    "    # Ensure we have enough subsequences to select from\n",
    "    if total_subsequences < num_subsequences:\n",
    "        raise ValueError(f\"Can't generate {num_subsequences} non-overlapping subsequences of length {sub_length} from the provided sequence of length {len(sequence)}.\")\n",
    "    \n",
    "    # Randomly select starting indices for the subsequences\n",
    "    start_indices = random.sample(range(100, total_subsequences * sub_length, sub_length), num_subsequences)\n",
    "    \n",
    "    # Extract the subsequences\n",
    "    subsequences = [sequence[i:i+sub_length] for i in start_indices]\n",
    "    \n",
    "    return subsequences\n",
    "\n",
    "hostid2seqs = {}\n",
    "# Path to your .fna.gz file\n",
    "for genome in os.listdir(path):\n",
    "    hostid = \"_\".join(genome.split(\"_\")[:2])\n",
    "    file_path = os.path.join(path, genome)\n",
    "\n",
    "    # Open the gzip file in text mode\n",
    "    with gzip.open(file_path, 'rt') as file:\n",
    "        for record in SeqIO.parse(file, \"fasta\"):\n",
    "            original_sequence = str(record.seq)\n",
    "            break\n",
    "    \n",
    "    num_subsequences = min(100, len(original_sequence) // MAX_LEN)\n",
    "    sequences = generate_subsequences(original_sequence, sub_length=MAX_LEN, num_subsequences=num_subsequences)\n",
    "    hostid2seqs[hostid] = sequences\n",
    "    "
   ]
  },
  {
   "cell_type": "markdown",
   "id": "b3115773-4fb4-472c-83db-4ea354a5e06f",
   "metadata": {},
   "source": [
    "# Generate Paired Data"
   ]
  },
  {
   "cell_type": "code",
   "execution_count": 23,
   "id": "2413641d-0ca1-4beb-a7d8-287244b56dec",
   "metadata": {},
   "outputs": [
    {
     "name": "stdout",
     "output_type": "stream",
     "text": [
      "Get 107909 for training, 13555 for validation, and 14223 for test\n"
     ]
    }
   ],
   "source": [
    "MAX_LEN = 10000\n",
    "def generate_paired_sequences(pairs, mgeid2seq, hostid2seqs):\n",
    "    all_sequences = []\n",
    "    for mgeid, hostid in pairs:\n",
    "        for host_seq in hostid2seqs[hostid]:\n",
    "            all_sequences.append([mgeid2seq[mgeid], host_seq])\n",
    "    \n",
    "    return all_sequences\n",
    "            \n",
    "sequences_train = generate_paired_sequences(data_train,  mgeid2seq, hostid2seqs)\n",
    "sequences_val = generate_paired_sequences(data_val,  mgeid2seq, hostid2seqs)\n",
    "sequences_test = generate_paired_sequences(data_test,  mgeid2seq, hostid2seqs)\n",
    "\n",
    "print(f\"Get {len(sequences_train)} for training, {len(sequences_val)} for validation, and {len(sequences_test)} for test\")\n"
   ]
  },
  {
   "cell_type": "code",
   "execution_count": 26,
   "id": "a29143e2-1a31-4868-9508-6dc72ac90471",
   "metadata": {
    "tags": []
   },
   "outputs": [],
   "source": [
    "import csv\n",
    "\n",
    "output_path = \"/pscratch/sd/z/zhihanz/data/mge_host/len10k_host100\"\n",
    "\n",
    "with open(os.path.join(output_path, \"train.csv\"), \"w\") as f:\n",
    "    f_w = csv.writer(f)\n",
    "    f_w.writerows(sequences_train)\n",
    "    \n",
    "with open(os.path.join(output_path, \"val.csv\"), \"w\") as f:\n",
    "    f_w = csv.writer(f)\n",
    "    f_w.writerows(sequences_val)\n",
    "    \n",
    "with open(os.path.join(output_path, \"test.csv\"), \"w\") as f:\n",
    "    f_w = csv.writer(f)\n",
    "    f_w.writerows(sequences_test)"
   ]
  },
  {
   "cell_type": "code",
   "execution_count": null,
   "id": "f03a03d6-95fa-4e16-ba9a-ed0c74551f6e",
   "metadata": {},
   "outputs": [],
   "source": []
  }
 ],
 "metadata": {
  "kernelspec": {
   "display_name": "pytorch-2.0.1",
   "language": "python",
   "name": "pytorch-2.0.1"
  },
  "language_info": {
   "codemirror_mode": {
    "name": "ipython",
    "version": 3
   },
   "file_extension": ".py",
   "mimetype": "text/x-python",
   "name": "python",
   "nbconvert_exporter": "python",
   "pygments_lexer": "ipython3",
   "version": "3.9.16"
  }
 },
 "nbformat": 4,
 "nbformat_minor": 5
}
